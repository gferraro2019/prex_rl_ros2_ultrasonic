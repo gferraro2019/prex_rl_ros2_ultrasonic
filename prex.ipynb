{
 "cells": [
  {
   "cell_type": "markdown",
   "id": "c979f923",
   "metadata": {},
   "source": [
    "# Sujet: ..."
   ]
  },
  {
   "cell_type": "markdown",
   "id": "da5c211f",
   "metadata": {},
   "source": [
    "# Responsable : Giuseppe Ferraro"
   ]
  },
  {
   "cell_type": "markdown",
   "id": "58b58171",
   "metadata": {},
   "source": [
    "# Resume: ..."
   ]
  },
  {
   "cell_type": "markdown",
   "id": "323d0fac",
   "metadata": {},
   "source": [
    "## Read documentation about the sensor"
   ]
  },
  {
   "cell_type": "markdown",
   "id": "0ea4c785",
   "metadata": {},
   "source": [
    "## Create a Dataset of measures"
   ]
  },
  {
   "cell_type": "markdown",
   "id": "5ad7544f",
   "metadata": {},
   "source": [
    "## Import the Dataset"
   ]
  },
  {
   "cell_type": "markdown",
   "id": "de12a1fb",
   "metadata": {},
   "source": [
    "## Pre-process the data"
   ]
  },
  {
   "cell_type": "markdown",
   "id": "5a80e038",
   "metadata": {},
   "source": [
    "## Compute some statistics to evaluate the sensor. Is it conforming the constructor's specs?"
   ]
  },
  {
   "cell_type": "markdown",
   "id": "630056bd",
   "metadata": {},
   "source": [
    "## Use the sensor to do some task"
   ]
  },
  {
   "cell_type": "markdown",
   "id": "058bc7e3",
   "metadata": {},
   "source": [
    "## Can we do something with those meausures?"
   ]
  },
  {
   "cell_type": "markdown",
   "id": "e5ab89b2",
   "metadata": {},
   "source": [
    "## What is a NN ?"
   ]
  },
  {
   "cell_type": "markdown",
   "id": "94f32d2b",
   "metadata": {},
   "source": [
    "## Pytorch framework"
   ]
  },
  {
   "cell_type": "markdown",
   "id": "e04e9008",
   "metadata": {},
   "source": [
    "## Can we predict something ?"
   ]
  }
 ],
 "metadata": {
  "kernelspec": {
   "display_name": "Python 3 (ipykernel)",
   "language": "python",
   "name": "python3"
  },
  "language_info": {
   "codemirror_mode": {
    "name": "ipython",
    "version": 3
   },
   "file_extension": ".py",
   "mimetype": "text/x-python",
   "name": "python",
   "nbconvert_exporter": "python",
   "pygments_lexer": "ipython3",
   "version": "3.9.13"
  },
  "varInspector": {
   "cols": {
    "lenName": 16,
    "lenType": 16,
    "lenVar": 40
   },
   "kernels_config": {
    "python": {
     "delete_cmd_postfix": "",
     "delete_cmd_prefix": "del ",
     "library": "var_list.py",
     "varRefreshCmd": "print(var_dic_list())"
    },
    "r": {
     "delete_cmd_postfix": ") ",
     "delete_cmd_prefix": "rm(",
     "library": "var_list.r",
     "varRefreshCmd": "cat(var_dic_list()) "
    }
   },
   "types_to_exclude": [
    "module",
    "function",
    "builtin_function_or_method",
    "instance",
    "_Feature"
   ],
   "window_display": false
  },
  "vp": {
   "vp_config_version": "1.0.0",
   "vp_menu_width": 273,
   "vp_note_display": false,
   "vp_note_width": 0,
   "vp_position": {
    "width": 278
   },
   "vp_section_display": false,
   "vp_signature": "VisualPython"
  }
 },
 "nbformat": 4,
 "nbformat_minor": 5
}
