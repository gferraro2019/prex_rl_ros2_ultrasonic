{
 "cells": [
  {
   "cell_type": "markdown",
   "id": "3dca16b2",
   "metadata": {},
   "source": [
    "# Prex"
   ]
  },
  {
   "cell_type": "markdown",
   "id": "030e4c78",
   "metadata": {},
   "source": [
    "# Subject: Measuring distances via ultrasonic sensor for Reinforcement Learning Application on rover robot based on ROS2."
   ]
  },
  {
   "cell_type": "markdown",
   "id": "36b72025",
   "metadata": {},
   "source": [
    "# Author: Giuseppe Ferraro\n",
    "\n",
    "\n",
    "\n"
   ]
  },
  {
   "cell_type": "markdown",
   "id": "f480ce61",
   "metadata": {},
   "source": [
    "# Theoretical section:"
   ]
  },
  {
   "cell_type": "markdown",
   "id": "ecbc4594",
   "metadata": {},
   "source": [
    "## 0. Using an ultrasonic sensor to measure distances."
   ]
  },
  {
   "cell_type": "markdown",
   "id": "33646765",
   "metadata": {},
   "source": [
    "<b> The goal of this prex is to use an ultrasonic sensor for measuring distances.</b> We will distinguish between direct and indirect measures. We will analyze the specs and documentation of the sensor. We will try to improve its performance using a sencond sensor, specifically a thermic cell. Later, We will propose a method to validate their quality and complience to the constructors' specifications. As bonus parts, we will try to use these sensors for piloting a robot using a Reinforcement Learning approach. For this, we will use the DQN algorithm. Initially, the students will train the robot over in a simulator and, secondly, they will deploy their agent in real scenario."
   ]
  },
  {
   "cell_type": "markdown",
   "id": "9b749d38",
   "metadata": {},
   "source": [
    "## 0.1 What's a measure?"
   ]
  },
  {
   "cell_type": "markdown",
   "id": "72bc025d",
   "metadata": {},
   "source": [
    "Taking a measure it means to discover the exact size and amount of something. We distinguish between <b>direct measures</b> and <b> indirect measures</b>"
   ]
  },
  {
   "cell_type": "markdown",
   "id": "f2e2958c",
   "metadata": {},
   "source": [
    "## 0.2 What's a measuring instrument?"
   ]
  },
  {
   "cell_type": "markdown",
   "id": "0e9200fe",
   "metadata": {},
   "source": [
    " A measuring instrument is a tool that allows to quantify a certain dimension or amount of an item.\n",
    " \n",
    "It has 4 main charateristics:\n",
    "* a <b>precision</b>: this is an index of the quality of the instrument. Taking tha same measure should give results close to eachothers.\n",
    "* a <b>range</b>: this the interval of measurments that the tool can take.\n",
    "* a <b>sensitivyt</b>: this is the smallest variation in the quantity that the tool can measure\n",
    "* a <b>response</b>: this is the pace at wich the tool can produce a measure.\n",
    "\n"
   ]
  },
  {
   "cell_type": "markdown",
   "id": "ff3a82bf",
   "metadata": {},
   "source": [
    "## 0.3 Direct and Indirect meausures."
   ]
  },
  {
   "cell_type": "markdown",
   "id": "abced467",
   "metadata": {},
   "source": [
    "There are 2 types of measurements. \n",
    "\n",
    "### Direct Measures: \n",
    "These are all the measure that we obtain by comparing the given quantity with a reference unit of measure. For instance the lenght of something can be measured with a ruler.\n",
    "\n",
    "### Indirect Measures:\n",
    "These are all the measure that we obtain by computing some mathematical computation of other physical dimensions. For example, the temperature. We can't measure directly the temperature of an object, but thanks to the thermical equilibrium law of the bodies and to the fact the heat tends to dilatate the dimensions, we can measure the tempertature with a mercury thermometer. Ineed, we convert the elongation of the metal inside the glass bulb in a certain amount of degrees Celsius or Farenheit.\n",
    "\n",
    "It is important to know that the same dimesion can be measured in both ways. For example a distance, we can use a ruler (<b>direct m.</b>) or an ultrasonic sensor (<b>indirect m.</b>).\n"
   ]
  },
  {
   "cell_type": "markdown",
   "id": "6bcd741c",
   "metadata": {},
   "source": [
    "## 0.4 How can we measure distances through sound's physics law?"
   ]
  },
  {
   "cell_type": "markdown",
   "id": "29e5cf53",
   "metadata": {},
   "source": [
    "As already mentioned, we ca use the indirect measure of the sound's speed to meausre a distance.\n",
    "\n",
    "Simplifying, we can say that the speed of sound it's very susceptible to the material of its medium and to the temperature of that material. In the case of the air we can compute the speed of the sound in m/s using the following formula:\n",
    "    V = 331.4 +0.6T    (1)\n",
    "where T is the temperature measured in Celsius degrees.\n",
    "This formula tells us that the sound's speed augument of 0.6 m/s per each Celsius degree.\n",
    "\n",
    "In order to take an indirect measure of a distance from an object we could:\n",
    "1. produce a sound and simultaneusly starting a stopwatch\n",
    "2. waiting for its echo and simultaneusly stopping a stopwatch\n",
    "The time interval t we have obtained tells us how long the wave sound has travel from us to the object and come back. \n",
    "\n",
    "We can now compute the product V*t for obtaining a distance but we need to keep in mind that this distance is for the roundtrip of the acoustic wave, so we must divide by 2 for obtaining the desired distance from the starting position of the wave and the item that reflected the sound."
   ]
  },
  {
   "cell_type": "markdown",
   "id": "2a6d517b",
   "metadata": {},
   "source": [
    "## 1. What's an ultrasonic sensor?"
   ]
  },
  {
   "cell_type": "markdown",
   "id": "768d032a",
   "metadata": {},
   "source": [
    "<img src=\"HC-SR04 Ultrasonic Sensor Module Distance Measuring Transducer-min.jpg\" width=500>"
   ]
  },
  {
   "cell_type": "markdown",
   "id": "114d75da",
   "metadata": {},
   "source": [
    "According to the frequencies measured in Hz, we distinguish the sound in:\n",
    "* infrasound:  0 Hz - 20 Hz\n",
    "* audible sound:  20 Hz - 20 kHz \n",
    "* ultrasound:  > 20 kHz \n",
    "\n",
    "\n",
    "An ultrasonic sensor is a sonar that use sounds above the 20kHz to determine the distance to an object.\n",
    "\n",
    "In this course will use HCSR04 sensor: <a href=\"HC-SR04 User Manual.pdf\"> documentation </a>\n",
    "\n",
    "\n",
    "\n",
    "### Ultrasonic HCSR04 Sensor Library and ROS 2 Wrapper : https://github.com/mataruzz/libHCSR04"
   ]
  },
  {
   "cell_type": "markdown",
   "id": "c432eb6e",
   "metadata": {},
   "source": [
    "## 1.1 How does it work?"
   ]
  },
  {
   "cell_type": "markdown",
   "id": "343858b8",
   "metadata": {},
   "source": [
    "It all starts when the trigger pin is set HIGH for 10µs. In response, the sensor transmits an ultrasonic burst of eight pulses at 40 kHz. This 8-pulse pattern is specially designed so that the receiver can distinguish the transmitted pulses from ambient ultrasonic noise.\n",
    "\n",
    "These eight ultrasonic pulses travel through the air away from the transmitter. Meanwhile the echo pin goes HIGH to initiate the echo-back signal.\n",
    "\n",
    "If those pulses are not reflected back, the echo signal times out and goes low after 38ms (38 milliseconds). Thus a pulse of 38ms indicates no obstruction within the range of the sensor.\n",
    "\n",
    "<img src=\"https://lastminuteengineers.com/wp-content/uploads/arduino/HC-SR04-Ultrasonic-Sensor-Working-Echo-when-no-Obstacle.gif\" alter=\"no obstacle\">\n",
    "\n",
    "\n",
    "If those pulses are reflected back, the echo pin goes low as soon as the signal is received. This generates a pulse on the echo pin whose width varies from 150 µs to 25 ms depending on the time taken to receive the signal.\n",
    "\n",
    "<img src=\"https://lastminuteengineers.com/wp-content/uploads/arduino/HC-SR04-Ultrasonic-Sensor-Working-Echo-reflected-from-Obstacle.gif\" alter=\"with obstacle\">\n",
    "\n",
    "So we obtain the time t for the roundtrip. "
   ]
  },
  {
   "cell_type": "markdown",
   "id": "4daa772e",
   "metadata": {},
   "source": [
    "## 1.2 How can we improve its reliability?\n",
    "### Hint: taking in account the Temperature."
   ]
  },
  {
   "cell_type": "markdown",
   "id": "f66e3b61",
   "metadata": {},
   "source": [
    "Adding an extra sensor for measuring the temperature can help us to be more accurate in computation of the distance.\n",
    "\n",
    "In this course we will use this sensor: ..."
   ]
  },
  {
   "cell_type": "markdown",
   "id": "415a3360",
   "metadata": {},
   "source": [
    "## 2. How to validate a sensor?"
   ]
  },
  {
   "cell_type": "markdown",
   "id": "a25c5457",
   "metadata": {},
   "source": [
    "Normally, a constructor has alredy some process and techniques that assure the compliance of its products to some specification, but once in while it can happen that we end up with a poor sensor that does not comply with the construction charatteristics and performance.\n",
    "\n",
    "A valid technique to check if the sensor is complying with the constructor's specs is to use the <b>Hypothesis Testing</b>."
   ]
  },
  {
   "cell_type": "markdown",
   "id": "e9e00016",
   "metadata": {},
   "source": [
    "### 2.1 Hypothesis Testing"
   ]
  },
  {
   "cell_type": "markdown",
   "id": "4ddb3369",
   "metadata": {},
   "source": [
    "It is a formal procedure that allow us to reject or not an Hypotesis.\n",
    "\n",
    "It works like that:\n",
    "1. we have to state an hypotesis that we want to prove named null hypothesis indicated with H0 and its altenative hypothesis, indicated with H1\n",
    "2. collect the data (the more the better)\n",
    "3. fix a level of significance (usually 5%)\n",
    "4. perform the statical test using Z-score (#samples >30)\n",
    "5. decide wether to reject or fail the null hypothesis\n",
    "\n",
    "\n",
    "### How to formulate the Null Hyposesis H0 and its alternative H1?\n",
    "To formulate the null Hypothesis, we have to define it as something that we want to be false, so if we think that men are, on average, taller than women we could formulate:\n",
    "\n",
    "    H0: men are NOT taller, on overage, than women. \n",
    "\n",
    "and consequently,\n",
    "\n",
    "    H1:men are, on averagem taller than women.\n",
    "\n",
    "If performing the statiscal test we conclude rejecting the Null hypothesis, we have proved that H0 is false, thus, the conclusion is that men are taller on average than women.\n",
    "\n",
    "### What's Z-score?\n",
    "Even if we do not know the population standard deviation for our measures, it is sufficient to have more than 30 samples for using the Z-test instead to t-test.\n",
    "\n",
    "Z-score is a statistical measure that quantifies the distance between a data point and the mean of a dataset. It's expressed in terms of standard deviations. It indicates how many standard deviations a data point is from the mean of the distribution.\n",
    "\n",
    "\n",
    "If a Z-score is 0, it indicates that the data point's score is identical to the mean score. A Z-score of 1.0 would indicate a value that is one standard deviation from the mean. Z-scores may be positive or negative, with a positive value indicating the score is above the mean and a negative score indicating it is below the mean.\n",
    "\n",
    "The formula:\n",
    "\n",
    "    z = ( x - μ ) / (σ/sqrt(n))\n",
    "\n",
    "Where:\n",
    "\n",
    "    z = Z-score\n",
    "    x = the value being evaluated\n",
    "    μ = the mean\n",
    "    σ = the standard deviation\n",
    "    n = number of samples\n",
    "\n",
    "### How to perform the statistical test for our case?\n",
    "1. calculate the mean of our data and its standard deviation.\n",
    "2. compute the Z-score \n",
    "3. use a one sample Z Test Hypothesis\n",
    "4. fix the level of significance at 5%\n",
    "5. choose between One-Tailed or Two-tailed value\n",
    "6. compare the Z-score with the critical value to reject or not H0. For istance, if we are in the one-tailed case, H0: u > u0 and the Z-score is greater than critical value we can reject H0.\n",
    "\n",
    "critical value(s):\n",
    "<img src=\"critical_values.png\"  width = 500 alter=\"table of critical values\">\n",
    "\n",
    "\n"
   ]
  },
  {
   "cell_type": "markdown",
   "id": "c91a68e3",
   "metadata": {},
   "source": [
    "## 3. What's ROS2?"
   ]
  },
  {
   "cell_type": "markdown",
   "id": "88e15793",
   "metadata": {},
   "source": [
    "<img src=\"https://static.wixstatic.com/media/c5849b_99ba8604243549ceaef7eef8534735d8~mv2.png/v1/fill/w_699,h_699,al_c/c5849b_99ba8604243549ceaef7eef8534735d8~mv2.png\" width =200 alter=\"ros2 image\">\n",
    "\n",
    "The Robot Operating System (ROS) is a set of software libraries and tools for building robot applications. From drivers and state-of-the-art algorithms to powerful developer tools, ROS has the open source tools you need for your next robotics project.\n",
    "\n",
    "Since ROS was started in 2007, a lot has changed in the robotics and ROS community. The goal of the ROS 2 project is to adapt to these changes, leveraging what is great about ROS 1 and improving what isn’t.\n",
    "\n",
    "<a href=\"https://docs.ros.org/en/foxy/Installation.html\"> Installation ROS2</a>\n",
    "\n",
    "<a href=\"https://www.youtube.com/playlist?list=PLLSegLrePWgJudpPUof4-nVFHGkB62Izy\"> A youtube tutorial on ROS2</a>\n",
    "\n",
    "<a href=\"https://www.theconstruct.ai/wp-content/uploads/2021/10/ROS2-Command-Cheat-Sheets-updated.pdf\"> ROS2 Cheat Sheets</a>\n",
    "\n",
    "1. <a href=\"https://docs.ros.org/en/foxy/Tutorials/Beginner-CLI-Tools/Configuring-ROS2-Environment.html\"> Configuring the environment </a>\n",
    "\n",
    "\n",
    "#### Key concepts:\n",
    "- Nodes\n",
    "- Topics\n",
    "- Services\n",
    "- Parameters\n",
    "- Actions\n"
   ]
  },
  {
   "cell_type": "markdown",
   "id": "95eba0ae",
   "metadata": {},
   "source": [
    "## Graphical Tools:\n",
    "\n",
    "To see general GUI: \n",
    "`rqt`\n",
    "\n",
    "To see the graph of nodes: \n",
    "`rqt_graph`\n",
    "\n",
    "## How to start a node:\n",
    "To launch an executable from a package\n",
    "`ros2 run <package_name> <executable_name>`\n",
    "\n",
    "## Remapping:\n",
    "Remapping allows you to reassign default node properties, like node name, topic names, service names, etc., to custom values.\n",
    "\n",
    "In case of different object to be controlled from another node, a remapping of the topics is needed, as for example in the case of two turtle in turtlesim:\n",
    "\n",
    "`ros2 run turtlesim turtle_teleop_key --ros-args --remap turtle1/cmd_vel:=turtle2/cmd_vel`"
   ]
  },
  {
   "cell_type": "markdown",
   "id": "a7f2353b",
   "metadata": {},
   "source": [
    "## Workspace\n",
    "ROS 2 relies on the notion of combining workspaces using the shell environment. “Workspace” is a ROS term for the location on your system where you’re developing with ROS 2. The core ROS 2 workspace is called the underlay. Subsequent local workspaces are called overlays. When developing with ROS 2, you will typically have several workspaces active concurrently."
   ]
  },
  {
   "cell_type": "markdown",
   "id": "51db2e94",
   "metadata": {},
   "source": [
    "## Nodes:\n",
    "A node is a fundamental ROS 2 element that serves a single, modular purpose in a robotics system.\n",
    "<br>It can have 0...N <b>Publisher</b> and/or 0...N <b>Subscriber</b> 0...N <b>Service</b> and/or 0...N <b>Action</b>.\n",
    "<img src=\"https://docs.ros.org/en/foxy/_images/Topic-SinglePublisherandSingleSubscriber.gif\">\n",
    "\n",
    "### How to get node list:\n",
    "`ros2 node list`\n",
    "\n",
    "### How to get node's infos:\n",
    "The following command returns a list of subscribers, publishers, services, and actions. i.e. the ROS graph connections that interact with that node.\n",
    "`ros2 node info <node_name>`"
   ]
  },
  {
   "cell_type": "markdown",
   "id": "766f56e9",
   "metadata": {},
   "source": [
    "## Topics:\n",
    "ROS 2 breaks complex systems down into many modular nodes. Topics are a vital element of the ROS graph that act as a <b>bus</b> for nodes to exchange messages.<br>\n",
    "<br>The <b>multiplicity</b> of topic can be:\n",
    "- <b>1-to-1</b>,\n",
    "- <b>1-to-many</b>,\n",
    "- <b>many-to-one</b>,\n",
    "- <b>many-to-many</b>\n",
    "\n",
    "<img src=\"https://docs.ros.org/en/foxy/_images/Topic-MultiplePublisherandMultipleSubscriber.gif\">\n",
    "\n",
    "Topics are one of the main ways in which data is moved between nodes and therefore between different parts of the system.\n",
    "\n",
    "### How to get topics list:\n",
    "`ros2 topic list`\n",
    "\n",
    "As above but it adds the topic type in brackets: \n",
    "`ros2 topic list -t`\n",
    "\n",
    "### How to see topics'output:\n",
    "To read data beeing published on a topic, use:\n",
    "`ros2 topic echo <topic_name>`\n",
    "\n",
    "### How to push data on a topic:\n",
    "To push data on a topic, use:\n",
    "`ros2 topic pub <topic_name> <msg_type> '<args>'`\n",
    "The '<args>' argument is the actual data you’ll pass to the topic, in the structure you just discovered in the previous section. It’s important to note that this argument needs to be input in YAML syntax. Do it:\n",
    "\n",
    "#### - using --once to publish one message and then exit:<br>\n",
    "`ros2 topic pub --once /turtle1/cmd_vel geometry_msgs/msg/Twist \"{linear: {x: 2.0, y: 0.0, z: 0.0}, angular: {x: 0.0, y: 0.0, z: 1.8}}\"`\n",
    "\n",
    "#### - using --rate <number_of_Heartz> to keep publishing at frequency defined:<br>\n",
    "`ros2 topic pub --rate 1 /turtle1/cmd_vel geometry_msgs/msg/Twist \"{linear: {x: 2.0, y: 0.0, z: 0.0}, angular: {x: 0.0, y: 0.0, z: 1.8}}\"`"
   ]
  },
  {
   "cell_type": "markdown",
   "id": "5de0c885",
   "metadata": {},
   "source": [
    "## Services:\n",
    "Services are another method of communication for nodes in the ROS graph. Services are based on a call-and-response model versus the publisher-subscriber model of topics. While topics allow nodes to subscribe to data streams and get continual updates, services only provide data when they are specifically called by a client.\n",
    "\n",
    "<img src=\"https://docs.ros.org/en/foxy/_images/Service-MultipleServiceClient.gif\">\n",
    "\n",
    "Services have types that describe how the request and response data of a service is structured. Service types are defined similarly to topic types, except service types have two parts: one message for the request and another for the response.\n",
    "\n",
    "### How to get service type:\n",
    "`ros2 service type <service_name>`\n",
    "\n",
    "### How to call a service:\n",
    "`ros2 service call <service_name> <service_type> <arguments>`<br>\n",
    "The <arguments> part is optional. For example, you know that Empty typed services don’t have any arguments.\n",
    "    \n",
    "### Hot to get the servises list:\n",
    "`ros2 service list`\n",
    "    \n",
    "As above but it adds the service's type in brackets: \n",
    "`ros2 service list -t`\n",
    "    \n",
    "### Hot to find all the services of a specific type:\n",
    "`ros2 service find <type_name>`\n",
    "\n",
    "### Remember:   \n",
    "Nodes can communicate using services in ROS 2. Unlike a topic - a one way communication pattern where a node publishes information that can be consumed by one or more subscribers - a service is a request/response pattern where a client makes a request to a node providing the service and the service processes the request and generates a response.\n",
    "\n",
    "You generally don’t want to use a service for continuous calls; topics or even actions would be better suited.\n",
    "    \n"
   ]
  },
  {
   "cell_type": "markdown",
   "id": "8941c50d",
   "metadata": {},
   "source": [
    "## Paramenters:\n",
    "A parameter is a configuration value of a node. You can think of parameters as node settings. A node can store parameters as integers, floats, booleans, strings, and lists. In ROS 2, each node maintains its own parameters.\n",
    "\n",
    "\n",
    "### How to get parameters' list\n",
    "`ros2 param list`\n",
    "\n",
    "### Hot to get a parameter\n",
    "To determine a parameter’s type, you can use: `ros2 param get` <br>\n",
    "To display the type and the current value: `ros2 param get <node_name> <parameter_name>`<br>\n",
    "\n",
    "### How to set a parameter\n",
    "To set the the parameter's value: `ros2 param set <node_name> <parameter_name> <value>`<br>\n",
    "\n",
    "Setting parameters with the set command will only change them in your current session, not permanently.\n",
    "\n",
    "### How to write all parameters in .yaml\n",
    "You can save all of a node’s current parameter values into a file (.yaml) to save them for later by using the command: `ros2 param dump <node_name>`\n",
    "\n",
    "### How to read all parameters from .yaml\n",
    "To load .yaml fil: `ros2 param load <node_name> <parameter_file>`\n",
    "\n",
    "To start the same node using your saved parameter values, use: `ros2 run <package_name> <executable_name> --ros-args --params-file <file_name>`\n",
    "\n",
    "\n",
    "    "
   ]
  },
  {
   "cell_type": "markdown",
   "id": "96f9a3c8",
   "metadata": {},
   "source": [
    "## Actions:\n",
    "Actions are one of the communication types in ROS 2 and are intended for long running tasks. They consist of three parts: a goal, feedback, and a result.\n",
    "\n",
    "Actions are built on topics and services. Their functionality is similar to services, except actions are <b>preemptable</b> (you can cancel them while executing). They also provide steady feedback, as opposed to services which return a single response.\n",
    "\n",
    "Actions use a client-server model, similar to the publisher-subscriber model (described in the topics tutorial). An “action client” node sends a goal to an “action server” node that acknowledges the goal and returns a stream of feedback and a result.\n",
    "\n",
    "<img src=\"https://docs.ros.org/en/foxy/_images/Action-SingleActionClient.gif\">\n",
    "\n",
    "#### In case of cancellation client side:\n",
    "The system responds \"<action> goal canceled\"\n",
    "    \n",
    "#### In case of cancellation server side:\n",
    "The system responds \"Aborting goal...\"\n",
    "\n",
    "### How to get action list:\n",
    "`ros2 action list`\n",
    "\n",
    "As above, it adds also the action type:<br>\n",
    "`ros2 action list -t`\n",
    "    \n",
    "For a specific node:<br>\n",
    "`ros2 node info <topic_name>`\n",
    "    \n",
    "ROS2 distinguish between <b>Action Client</b> and <b>Action Server</b>.\n",
    "    \n",
    "### How to get more information about an action:\n",
    "#### - to know who uses the specific action:<br>\n",
    "`ros2 action info /<topic_name>/<action_name>`\n",
    "#### - to know the structure of an action:<br>\n",
    "`ros2 action show /<topic_name>/<action_name>`\n",
    "    \n",
    "The message as a particular structure that goes like: above the first --- is the structure (data type and name) of the goal request. The next section is the structure of the result. The last section is the structure of the feedback.\n",
    "    \n",
    "\n",
    "### How to call a service:\n",
    "`ros2 service call <service_name> <service_type> <arguments>`<br>\n",
    "The <arguments> part is optional. For example, you know that Empty typed services don’t have any arguments.\n",
    "    \n",
    "### How to send an action goal:\n",
    "`ros2 action send_goal <action_name> <action_type> <values>`\n",
    "\n",
    "All goals have a unique ID, shown in the return message.\n",
    "\n"
   ]
  },
  {
   "cell_type": "markdown",
   "id": "738b4ccf",
   "metadata": {},
   "source": [
    "## Logging:\n",
    "We can use rqt to log:\n",
    "`ros2 run rqt_console rqt_console`\n",
    "\n",
    "### Logger are ordered by severity:\n",
    "- Fatal\n",
    "- Error\n",
    "- Warn\n",
    "- Info\n",
    "- Debug\n",
    "\n",
    "The default level is Info. You will only see messages of the default severity level and more-severe levels.\n",
    "\n",
    "### Types of log messages:\n",
    "- Fatal messages indicate the system is going to terminate to try to protect itself from detriment.\n",
    "- Error messages indicate significant issues that won’t necessarily damage the system, but are preventing it from functioning properly.\n",
    "- Warn messages indicate unexpected activity or non-ideal results that might represent a deeper issue, but don’t harm functionality outright.\n",
    "- Info messages indicate event and status updates that serve as a visual verification that the system is running as expected.\n",
    "- Debug messages detail the entire step-by-step process of the system execution.\n",
    "\n",
    "## How to set default logger level:\n",
    "`ros2 run <name_space> <package> <node> --ros-args --log-level WARN`\n",
    "\n",
    "Setting a specific level will ignore all the lower levels."
   ]
  },
  {
   "cell_type": "markdown",
   "id": "128c0cfa",
   "metadata": {},
   "source": [
    "## ROS2 BAG\n",
    "### A way for storing and replaying data\n",
    "You can record data passed on topics in your ROS 2 system using the ros2 bag command. Whether you’re sharing your work with others or introspecting your own experiments, it’s a great tool to know about.\n",
    "\n",
    "The command to store a particular topic: ```ros2 bag record <topic_name>```\n",
    "\n",
    "It is possible to record multiple topic simultaneasly: ```ros2 bag record -o subset <topic1_name> <topic2_name>```\n",
    "\n",
    "### To replay the bag\n",
    "```ros2 bag play <name_bag>```\n",
    "\n",
    "## Using colcon to build packages\n",
    "A ROS workspace is a directory with a particular structure. Commonly there is a src subdirectory. Inside that subdirectory is where the source code of ROS packages will be located. Typically the directory starts otherwise empty.\n",
    "\n",
    "colcon does out of source builds. By default it will create the following directories as peers of the <b>src</b> directory:\n",
    "\n",
    "The <b>build</b> directory will be where intermediate files are stored. For each package a subfolder will be created in which e.g. CMake is being invoked.\n",
    "\n",
    "The <b>install</b> directory is where each package will be installed to. By default each package will be installed into a separate subdirectory.\n",
    "\n",
    "The <b>log</b> directory contains various logging information about each colcon invocation.\n",
    "\n",
    "\n",
    "### Useful arguments for colcon build:\n",
    "\n",
    "--packages-up-to builds the package you want, plus all its dependencies, but not the whole workspace (saves time)\n",
    "\n",
    "--symlink-install saves you from having to rebuild every time you tweak python scripts\n",
    "\n",
    "--event-handlers console_direct+ shows console output while building (can otherwise be found in the log directory)\n",
    "\n",
    "## Build systems of ROS2\n",
    "ROS2 has 2 build system:\n",
    "    -ament_python\n",
    "    -ament_cmake\n"
   ]
  },
  {
   "cell_type": "markdown",
   "id": "1b292546",
   "metadata": {},
   "source": [
    "# Practical section:"
   ]
  },
  {
   "cell_type": "markdown",
   "id": "2562bb27",
   "metadata": {},
   "source": [
    "### 1. ROS2 node for using HC-SR04 sensor with a Raspberry Pi5\n",
    "Use the ros2 node that you find at <a href =\"https://github.com/gferraro2019/ultrasonic_sensor\">\n",
    "\n",
    "### 2. Collect data from the nodes using the Bag\n",
    "    \n",
    "### 3. Create Panda Dataframe from ros Bag\n",
    "    \n",
    "### 4. Perform the statistical test for our case.\n",
    "        1. calculate the mean of our data and its standard deviation.\n",
    "        2. compute the Z-score \n",
    "        3. use a one sample Z Test Hypothesis\n",
    "        4. fix the level of significance at 5%\n",
    "        5. choose between One-Tailed or Two-tailed value\n",
    "        6. compare the Z-score with the critical value to reject or not H0. For istance, if we are in the one-tailed case, H0: u > u0 and the Z-score is greater than critical value we can reject H0.\n",
    "\n",
    "critical value(s):\n",
    "<img src=\"critical_values.png\"  width = 500 alter=\"table of critical values\">\n"
   ]
  },
  {
   "cell_type": "markdown",
   "id": "652788d4",
   "metadata": {},
   "source": [
    "## 4. Collect data"
   ]
  },
  {
   "cell_type": "code",
   "execution_count": 1,
   "id": "c8037b01",
   "metadata": {},
   "outputs": [
    {
     "name": "stdout",
     "output_type": "stream",
     "text": [
      "/bin/bash: line 1: wich: command not found\r\n"
     ]
    }
   ],
   "source": [
    "!wich python"
   ]
  },
  {
   "cell_type": "code",
   "execution_count": 2,
   "id": "56ccf4d4",
   "metadata": {},
   "outputs": [],
   "source": [
    "import numpy as np\n",
    "import pandas\n",
    "import rclpy"
   ]
  },
  {
   "cell_type": "code",
   "execution_count": 3,
   "id": "3cff30d2",
   "metadata": {},
   "outputs": [
    {
     "name": "stdout",
     "output_type": "stream",
     "text": [
      "Requirement already satisfied: rosbags in /home/dcas/g.ferraro/anaconda3/envs/ros2/lib/python3.10/site-packages (0.10.4)\r\n",
      "Requirement already satisfied: ruamel.yaml in /home/dcas/g.ferraro/anaconda3/envs/ros2/lib/python3.10/site-packages (from rosbags) (0.18.6)\r\n",
      "Requirement already satisfied: numpy in /home/dcas/g.ferraro/anaconda3/envs/ros2/lib/python3.10/site-packages (from rosbags) (2.0.0)\r\n",
      "Requirement already satisfied: lz4 in /home/dcas/g.ferraro/anaconda3/envs/ros2/lib/python3.10/site-packages (from rosbags) (4.3.3)\r\n",
      "Requirement already satisfied: zstandard in /home/dcas/g.ferraro/anaconda3/envs/ros2/lib/python3.10/site-packages (from rosbags) (0.22.0)\r\n",
      "Requirement already satisfied: typing-extensions in /home/dcas/g.ferraro/anaconda3/envs/ros2/lib/python3.10/site-packages (from rosbags) (4.11.0)\r\n",
      "Requirement already satisfied: ruamel.yaml.clib>=0.2.7 in /home/dcas/g.ferraro/anaconda3/envs/ros2/lib/python3.10/site-packages (from ruamel.yaml->rosbags) (0.2.8)\r\n"
     ]
    }
   ],
   "source": [
    "!pip install rosbags"
   ]
  },
  {
   "cell_type": "code",
   "execution_count": 4,
   "id": "8dd5b2b9",
   "metadata": {},
   "outputs": [],
   "source": [
    "from pathlib import Path\n",
    "from rosbags.highlevel import AnyReader\n",
    "from rosbags.typesys import Stores, get_typestore\n",
    "import pandas as pd\n",
    "\n",
    "# Read data from the Ros bag\n",
    "\n",
    "# bagpath = Path('/home/dcas/g.ferraro/Desktop/prex/ros2_bags/data')\n",
    "bagpath = Path('/home/dcas/g.ferraro/Desktop/prex/ros2_bags/multi_measure2/')\n",
    "\n",
    "# bagpath = Path('/home/dcas/g.ferraro/Desktop/prex/ros2_bags/rosbag2_2024_07_08-12_34_20')\n",
    "\n",
    "\n",
    "# Create a type store to use if the bag has no message definitions.\n",
    "typestore = get_typestore(Stores.ROS2_FOXY)\n",
    "\n",
    "l=[]\n",
    "# Create reader instance and open for reading.\n",
    "with AnyReader([bagpath], default_typestore=typestore) as reader:\n",
    "    connections = [x for x in reader.connections if x.topic == '/chatter']\n",
    "    for connection, timestamp, rawdata in reader.messages(connections=connections):\n",
    "        msg = reader.deserialize(rawdata, connection.msgtype)\n",
    "        l.append(msg.data)"
   ]
  },
  {
   "cell_type": "code",
   "execution_count": 5,
   "id": "d3946498",
   "metadata": {},
   "outputs": [],
   "source": [
    "    \n",
    "# Create DataFrame from bag's data\n",
    "df = pd.DataFrame({\"distances\":l})"
   ]
  },
  {
   "cell_type": "code",
   "execution_count": 6,
   "id": "ff734f6b",
   "metadata": {},
   "outputs": [
    {
     "data": {
      "text/html": [
       "<div>\n",
       "<style scoped>\n",
       "    .dataframe tbody tr th:only-of-type {\n",
       "        vertical-align: middle;\n",
       "    }\n",
       "\n",
       "    .dataframe tbody tr th {\n",
       "        vertical-align: top;\n",
       "    }\n",
       "\n",
       "    .dataframe thead th {\n",
       "        text-align: right;\n",
       "    }\n",
       "</style>\n",
       "<table border=\"1\" class=\"dataframe\">\n",
       "  <thead>\n",
       "    <tr style=\"text-align: right;\">\n",
       "      <th></th>\n",
       "      <th>distances</th>\n",
       "    </tr>\n",
       "  </thead>\n",
       "  <tbody>\n",
       "    <tr>\n",
       "      <th>count</th>\n",
       "      <td>1514.000000</td>\n",
       "    </tr>\n",
       "    <tr>\n",
       "      <th>mean</th>\n",
       "      <td>37.503415</td>\n",
       "    </tr>\n",
       "    <tr>\n",
       "      <th>std</th>\n",
       "      <td>14.033763</td>\n",
       "    </tr>\n",
       "    <tr>\n",
       "      <th>min</th>\n",
       "      <td>17.635292</td>\n",
       "    </tr>\n",
       "    <tr>\n",
       "      <th>25%</th>\n",
       "      <td>27.579346</td>\n",
       "    </tr>\n",
       "    <tr>\n",
       "      <th>50%</th>\n",
       "      <td>37.440449</td>\n",
       "    </tr>\n",
       "    <tr>\n",
       "      <th>75%</th>\n",
       "      <td>47.666032</td>\n",
       "    </tr>\n",
       "    <tr>\n",
       "      <th>max</th>\n",
       "      <td>57.650517</td>\n",
       "    </tr>\n",
       "  </tbody>\n",
       "</table>\n",
       "</div>"
      ],
      "text/plain": [
       "         distances\n",
       "count  1514.000000\n",
       "mean     37.503415\n",
       "std      14.033763\n",
       "min      17.635292\n",
       "25%      27.579346\n",
       "50%      37.440449\n",
       "75%      47.666032\n",
       "max      57.650517"
      ]
     },
     "execution_count": 6,
     "metadata": {},
     "output_type": "execute_result"
    }
   ],
   "source": [
    "# Describe Dataframedf.describe()\n",
    "df.describe()"
   ]
  },
  {
   "cell_type": "code",
   "execution_count": 7,
   "id": "9a8146cc",
   "metadata": {},
   "outputs": [],
   "source": [
    "d = {}"
   ]
  },
  {
   "cell_type": "code",
   "execution_count": 8,
   "id": "c746c321",
   "metadata": {},
   "outputs": [],
   "source": [
    "lenght = 300\n",
    "preselected = df[(df[\"distances\"]<=25)][:lenght]\n",
    "d[\"17\"] = np.squeeze(preselected.astype(float).to_numpy())\n",
    "preselected = df[(df[\"distances\"]>=25) & (df[\"distances\"]<35)][:lenght]\n",
    "d[\"27\"] = np.squeeze(preselected.astype(float).to_numpy())\n",
    "preselected = df[(df[\"distances\"]>=35) & (df[\"distances\"]<45)][:lenght]\n",
    "d[\"37\"] = np.squeeze(preselected.astype(float).to_numpy())\n",
    "preselected = df[(df[\"distances\"]>=45) & (df[\"distances\"]<55)][:lenght]\n",
    "d[\"47\"] = np.squeeze(preselected.astype(float).to_numpy())\n",
    "preselected = df[(df[\"distances\"]>=55)][:lenght]\n",
    "d[\"57\"] = np.squeeze(preselected.astype(float).to_numpy())\n"
   ]
  },
  {
   "cell_type": "code",
   "execution_count": 9,
   "id": "6c5179d3",
   "metadata": {},
   "outputs": [],
   "source": [
    "import  matplotlib.pyplot as plt"
   ]
  },
  {
   "cell_type": "code",
   "execution_count": 10,
   "id": "ce5c7318",
   "metadata": {},
   "outputs": [],
   "source": [
    "df_ = pd.DataFrame(d)"
   ]
  },
  {
   "cell_type": "code",
   "execution_count": 11,
   "id": "ea304c9d",
   "metadata": {},
   "outputs": [
    {
     "data": {
      "text/html": [
       "<div>\n",
       "<style scoped>\n",
       "    .dataframe tbody tr th:only-of-type {\n",
       "        vertical-align: middle;\n",
       "    }\n",
       "\n",
       "    .dataframe tbody tr th {\n",
       "        vertical-align: top;\n",
       "    }\n",
       "\n",
       "    .dataframe thead th {\n",
       "        text-align: right;\n",
       "    }\n",
       "</style>\n",
       "<table border=\"1\" class=\"dataframe\">\n",
       "  <thead>\n",
       "    <tr style=\"text-align: right;\">\n",
       "      <th></th>\n",
       "      <th>17</th>\n",
       "      <th>27</th>\n",
       "      <th>37</th>\n",
       "      <th>47</th>\n",
       "      <th>57</th>\n",
       "    </tr>\n",
       "  </thead>\n",
       "  <tbody>\n",
       "    <tr>\n",
       "      <th>count</th>\n",
       "      <td>300.000000</td>\n",
       "      <td>300.000000</td>\n",
       "      <td>300.000000</td>\n",
       "      <td>300.000000</td>\n",
       "      <td>300.000000</td>\n",
       "    </tr>\n",
       "    <tr>\n",
       "      <th>mean</th>\n",
       "      <td>17.663893</td>\n",
       "      <td>27.774855</td>\n",
       "      <td>37.543502</td>\n",
       "      <td>47.634728</td>\n",
       "      <td>57.256591</td>\n",
       "    </tr>\n",
       "    <tr>\n",
       "      <th>std</th>\n",
       "      <td>0.015202</td>\n",
       "      <td>0.251791</td>\n",
       "      <td>0.191003</td>\n",
       "      <td>0.187752</td>\n",
       "      <td>0.158324</td>\n",
       "    </tr>\n",
       "    <tr>\n",
       "      <th>min</th>\n",
       "      <td>17.635292</td>\n",
       "      <td>27.531683</td>\n",
       "      <td>37.378456</td>\n",
       "      <td>47.460464</td>\n",
       "      <td>57.121006</td>\n",
       "    </tr>\n",
       "    <tr>\n",
       "      <th>25%</th>\n",
       "      <td>17.653647</td>\n",
       "      <td>27.580147</td>\n",
       "      <td>37.429788</td>\n",
       "      <td>47.508144</td>\n",
       "      <td>57.163910</td>\n",
       "    </tr>\n",
       "    <tr>\n",
       "      <th>50%</th>\n",
       "      <td>17.658984</td>\n",
       "      <td>27.597469</td>\n",
       "      <td>37.440449</td>\n",
       "      <td>47.553268</td>\n",
       "      <td>57.184265</td>\n",
       "    </tr>\n",
       "    <tr>\n",
       "      <th>75%</th>\n",
       "      <td>17.671539</td>\n",
       "      <td>27.977921</td>\n",
       "      <td>37.531017</td>\n",
       "      <td>47.902260</td>\n",
       "      <td>57.209130</td>\n",
       "    </tr>\n",
       "    <tr>\n",
       "      <th>max</th>\n",
       "      <td>17.707754</td>\n",
       "      <td>28.444824</td>\n",
       "      <td>38.265236</td>\n",
       "      <td>48.364372</td>\n",
       "      <td>57.650517</td>\n",
       "    </tr>\n",
       "  </tbody>\n",
       "</table>\n",
       "</div>"
      ],
      "text/plain": [
       "               17          27          37          47          57\n",
       "count  300.000000  300.000000  300.000000  300.000000  300.000000\n",
       "mean    17.663893   27.774855   37.543502   47.634728   57.256591\n",
       "std      0.015202    0.251791    0.191003    0.187752    0.158324\n",
       "min     17.635292   27.531683   37.378456   47.460464   57.121006\n",
       "25%     17.653647   27.580147   37.429788   47.508144   57.163910\n",
       "50%     17.658984   27.597469   37.440449   47.553268   57.184265\n",
       "75%     17.671539   27.977921   37.531017   47.902260   57.209130\n",
       "max     17.707754   28.444824   38.265236   48.364372   57.650517"
      ]
     },
     "execution_count": 11,
     "metadata": {},
     "output_type": "execute_result"
    }
   ],
   "source": [
    "df_.describe()"
   ]
  },
  {
   "cell_type": "code",
   "execution_count": 12,
   "id": "6dbaec3e",
   "metadata": {},
   "outputs": [
    {
     "data": {
      "text/plain": [
       "array([[<Axes: title={'center': '17'}>, <Axes: title={'center': '27'}>],\n",
       "       [<Axes: title={'center': '37'}>, <Axes: title={'center': '47'}>],\n",
       "       [<Axes: title={'center': '57'}>, <Axes: >]], dtype=object)"
      ]
     },
     "execution_count": 12,
     "metadata": {},
     "output_type": "execute_result"
    },
    {
     "data": {
      "image/png": "[encoded data removed]",
      "text/plain": [
       "<Figure size 640x480 with 6 Axes>"
      ]
     },
     "metadata": {},
     "output_type": "display_data"
    }
   ],
   "source": [
    "df_.hist()"
   ]
  },
  {
   "cell_type": "code",
   "execution_count": 13,
   "id": "095402ef",
   "metadata": {},
   "outputs": [],
   "source": [
    "c = df_-df_.mean()"
   ]
  },
  {
   "cell_type": "code",
   "execution_count": 14,
   "id": "fca6baa0",
   "metadata": {},
   "outputs": [
    {
     "data": {
      "image/png": "[encoded data removed]",
      "text/plain": [
       "<Figure size 640x480 with 1 Axes>"
      ]
     },
     "metadata": {},
     "output_type": "display_data"
    },
    {
     "data": {
      "image/png": "[encoded data removed]",
      "text/plain": [
       "<Figure size 640x480 with 1 Axes>"
      ]
     },
     "metadata": {},
     "output_type": "display_data"
    }
   ],
   "source": [
    "plt.plot(df_)\n",
    "plt.show()\n",
    "\n",
    "plt.plot(c)\n",
    "plt.show()\n"
   ]
  },
  {
   "cell_type": "code",
   "execution_count": 15,
   "id": "0d5341d0",
   "metadata": {},
   "outputs": [
    {
     "data": {
      "text/plain": [
       "17    17.663893\n",
       "27    27.774855\n",
       "37    37.543502\n",
       "47    47.634728\n",
       "57    57.256591\n",
       "dtype: float64"
      ]
     },
     "execution_count": 15,
     "metadata": {},
     "output_type": "execute_result"
    }
   ],
   "source": [
    "df_.mean()"
   ]
  },
  {
   "cell_type": "code",
   "execution_count": 16,
   "id": "5927f152",
   "metadata": {},
   "outputs": [
    {
     "name": "stdout",
     "output_type": "stream",
     "text": [
      "17    0.663893\n",
      "27    0.774855\n",
      "37    0.543502\n",
      "47    0.634728\n",
      "57    0.256591\n",
      "dtype: float64\n",
      "Grand average of Absolute Errors: 0.574713713328044\n"
     ]
    }
   ],
   "source": [
    "# Average of absolute error\n",
    "absolute_error = df_.mean()-[17,27,37,47,57]\n",
    "print(absolute_error)\n",
    "print(\"Grand average of Absolute Errors:\", absolute_error.to_numpy().mean())\n"
   ]
  },
  {
   "cell_type": "code",
   "execution_count": 17,
   "id": "66aaa69e",
   "metadata": {},
   "outputs": [
    {
     "name": "stdout",
     "output_type": "stream",
     "text": [
      "17    0.037585\n",
      "27    0.027898\n",
      "37    0.014477\n",
      "47    0.013325\n",
      "57    0.004481\n",
      "dtype: float64\n",
      "Grand average of Relative Errors:: 0.01955307189539674\n"
     ]
    }
   ],
   "source": [
    "# Average of relative error\n",
    "relative_error = absolute_error/df_.mean()\n",
    "print(relative_error)\n",
    "print(\"Grand average of Relative Errors::\", relative_error.to_numpy().mean())\n"
   ]
  },
  {
   "cell_type": "code",
   "execution_count": 18,
   "id": "0a390609",
   "metadata": {},
   "outputs": [
    {
     "name": "stdout",
     "output_type": "stream",
     "text": [
      "17    3.758472\n",
      "27    2.789772\n",
      "37    1.447658\n",
      "47    1.332491\n",
      "57    0.448142\n",
      "dtype: float64\n",
      "Grand average of Percentage Errors:: 1.955307189539674\n"
     ]
    }
   ],
   "source": [
    "# Average of percentage error\n",
    "percentage_error = absolute_error/df_.mean() *100\n",
    "print(percentage_error)\n",
    "print(\"Grand average of Percentage Errors::\", percentage_error.to_numpy().mean())\n"
   ]
  },
  {
   "cell_type": "code",
   "execution_count": 19,
   "id": "5e377ff8",
   "metadata": {},
   "outputs": [
    {
     "data": {
      "text/plain": [
       "17    0.015202\n",
       "27    0.251791\n",
       "37    0.191003\n",
       "47    0.187752\n",
       "57    0.158324\n",
       "dtype: float64"
      ]
     },
     "execution_count": 19,
     "metadata": {},
     "output_type": "execute_result"
    }
   ],
   "source": [
    "# Standard deviations\n",
    "df_.std()"
   ]
  },
  {
   "cell_type": "code",
   "execution_count": 20,
   "id": "ad62bc67",
   "metadata": {},
   "outputs": [
    {
     "data": {
      "text/plain": [
       "np.float64(0.16081463046016892)"
      ]
     },
     "execution_count": 20,
     "metadata": {},
     "output_type": "execute_result"
    }
   ],
   "source": [
    "# Average of standard deviations\n",
    "df_.std().to_numpy().sum()/df_.mean().to_numpy().shape[0]"
   ]
  },
  {
   "cell_type": "markdown",
   "id": "94c1c097",
   "metadata": {},
   "source": [
    "Given the fact that the average of the absolute error is"
   ]
  },
  {
   "cell_type": "markdown",
   "id": "bc6a4956",
   "metadata": {},
   "source": [
    "<img src=\"critical_values.png\"  width = 500 alter=\"table of critical values\">"
   ]
  },
  {
   "cell_type": "code",
   "execution_count": 21,
   "id": "d2cee088",
   "metadata": {},
   "outputs": [
    {
     "name": "stdout",
     "output_type": "stream",
     "text": [
      "17    43.670349\n",
      "27     3.077376\n",
      "37     2.845507\n",
      "47     3.380666\n",
      "57     1.620668\n",
      "dtype: float64\n"
     ]
    }
   ],
   "source": [
    "# Compute Z-score\n",
    "z_score = (df_.mean()-[17,27,37,47,57])/df_.std()\n",
    "print(z_score)\n",
    "\n",
    "# We consider the 1-side Test, H0: u>u0, if significance is fixed at 5%,  if z_score > 1.650 we can reject H0"
   ]
  },
  {
   "cell_type": "markdown",
   "id": "d286f992",
   "metadata": {},
   "source": [
    "# Bonus sections"
   ]
  },
  {
   "cell_type": "markdown",
   "id": "37b16562",
   "metadata": {},
   "source": [
    "## 5. What's RL?"
   ]
  },
  {
   "cell_type": "markdown",
   "id": "17326eda",
   "metadata": {},
   "source": [
    "Reinforcement learning is a computational approach to understanding and automating goal-directed learning and decision-making. It is distinguished from\n",
    "other computational approaches by its emphasis on learning by an agent from direct interaction with its environment, without relying on exemplary supervision or complete models of the environment.\n",
    "\n",
    "We are use to model a reinforcement learning proble as a Markov Decision Problem. We do this because we these kind of problem have nice properties as the memoryless state. It means that  for going in the next state, the agent should't care about any former state.\n",
    "\n",
    "To describe a RL problem we need:\n",
    "- an environment\n",
    "- an agent: the subject that starting grom an initial state, interacts with the environnment performing actions, recieves a (+/-) reward a reaches a next state\n",
    "- a reward function\n",
    "- a set of states\n",
    "\n",
    "<img src=\"RL_problem.png\">\n"
   ]
  },
  {
   "cell_type": "markdown",
   "id": "ce634ac6",
   "metadata": {},
   "source": [
    "### 5.1 What's NN?"
   ]
  },
  {
   "cell_type": "markdown",
   "id": "e9f84bae",
   "metadata": {},
   "source": []
  },
  {
   "cell_type": "markdown",
   "id": "a595a7ee",
   "metadata": {},
   "source": [
    "### 5.2 What's DQN?"
   ]
  },
  {
   "cell_type": "markdown",
   "id": "21adad8d",
   "metadata": {},
   "source": []
  },
  {
   "cell_type": "markdown",
   "id": "c2d60f97",
   "metadata": {},
   "source": [
    "## 6. Create the RL Application"
   ]
  },
  {
   "cell_type": "markdown",
   "id": "5070fc95",
   "metadata": {},
   "source": [
    "### 6.1 create the environment"
   ]
  },
  {
   "cell_type": "code",
   "execution_count": 22,
   "id": "5d35b48a",
   "metadata": {
    "scrolled": true
   },
   "outputs": [
    {
     "name": "stdout",
     "output_type": "stream",
     "text": [
      "robot named:'bot'\n",
      "i recieved: 42.41073226928711\n",
      "i recieved: 42.41073226928711\n",
      "42.41073226928711 -42.41073226928711 False {'max_legnth_reached': False, 'reached': False}\n",
      "i recieved: 42.449180603027344\n",
      "42.449180603027344 -42.41073226928711 False {'max_legnth_reached': False, 'reached': False}\n",
      "i recieved: 42.445369720458984\n",
      "42.445369720458984 -42.449180603027344 False {'max_legnth_reached': False, 'reached': False}\n",
      "i recieved: 42.439327239990234\n",
      "42.439327239990234 -42.445369720458984 False {'max_legnth_reached': False, 'reached': False}\n"
     ]
    },
    {
     "name": "stderr",
     "output_type": "stream",
     "text": [
      "[INFO] [1720794566.628707948] [my_node]: Publishing: \"1.58\"\n",
      "[INFO] [1720794566.631426765] [my_node]: Publishing: \"1.58\"\n",
      "[INFO] [1720794566.634660344] [my_node]: Publishing: \"1.58\"\n",
      "[INFO] [1720794566.637190111] [my_node]: Publishing: \"1.58\"\n",
      "[INFO] [1720794566.690047623] [my_node]: Publishing: \"1.58\"\n",
      "[INFO] [1720794566.789850198] [my_node]: Publishing: \"1.58\"\n"
     ]
    },
    {
     "name": "stdout",
     "output_type": "stream",
     "text": [
      "i recieved: 42.439327239990234\n",
      "42.439327239990234 -42.439327239990234 False {'max_legnth_reached': False, 'reached': False}\n",
      "i recieved: 42.439327239990234\n",
      "42.439327239990234 -42.439327239990234 False {'max_legnth_reached': False, 'reached': False}\n",
      "i recieved: 42.439327239990234\n",
      "42.439327239990234 -42.439327239990234 False {'max_legnth_reached': False, 'reached': False}\n"
     ]
    },
    {
     "name": "stderr",
     "output_type": "stream",
     "text": [
      "[INFO] [1720794566.890292961] [my_node]: Publishing: \"1.58\"\n",
      "[INFO] [1720794566.991261205] [my_node]: Publishing: \"1.58\"\n",
      "[INFO] [1720794567.090757852] [my_node]: Publishing: \"1.58\"\n"
     ]
    },
    {
     "name": "stdout",
     "output_type": "stream",
     "text": [
      "i recieved: 42.43647766113281\n",
      "42.43647766113281 -42.439327239990234 False {'max_legnth_reached': False, 'reached': False}\n",
      "i recieved: 42.45648956298828\n",
      "42.45648956298828 -42.43647766113281 False {'max_legnth_reached': False, 'reached': False}\n",
      "i recieved: 42.45648956298828\n",
      "42.45648956298828 -42.45648956298828 False {'max_legnth_reached': False, 'reached': False}\n"
     ]
    },
    {
     "name": "stderr",
     "output_type": "stream",
     "text": [
      "[INFO] [1720794567.187899820] [my_node]: Publishing: \"1.58\"\n",
      "[INFO] [1720794567.288765799] [my_node]: Publishing: \"1.58\"\n",
      "[INFO] [1720794567.392372563] [my_node]: Publishing: \"1.58\"\n"
     ]
    },
    {
     "name": "stdout",
     "output_type": "stream",
     "text": [
      "i recieved: 42.445369720458984\n",
      "42.445369720458984 -42.45648956298828 False {'max_legnth_reached': False, 'reached': False}\n",
      "i recieved: 42.445369720458984\n",
      "42.445369720458984 -42.445369720458984 False {'max_legnth_reached': False, 'reached': False}\n",
      "i recieved: 42.445369720458984\n",
      "42.445369720458984 -42.445369720458984 False {'max_legnth_reached': False, 'reached': False}\n"
     ]
    },
    {
     "name": "stderr",
     "output_type": "stream",
     "text": [
      "[INFO] [1720794567.489954955] [my_node]: Publishing: \"1.58\"\n",
      "[INFO] [1720794567.594098938] [my_node]: Publishing: \"1.58\"\n",
      "[INFO] [1720794567.690930131] [my_node]: Publishing: \"1.58\"\n"
     ]
    },
    {
     "name": "stdout",
     "output_type": "stream",
     "text": [
      "i recieved: 42.44633102416992\n",
      "42.44633102416992 -42.445369720458984 False {'max_legnth_reached': False, 'reached': False}\n",
      "i recieved: 42.445369720458984\n",
      "42.445369720458984 -42.44633102416992 False {'max_legnth_reached': False, 'reached': False}\n"
     ]
    },
    {
     "name": "stderr",
     "output_type": "stream",
     "text": [
      "[INFO] [1720794567.789381676] [my_node]: Publishing: \"1.58\"\n"
     ]
    },
    {
     "name": "stdout",
     "output_type": "stream",
     "text": [
      "i recieved: 42.44633102416992\n",
      "42.44633102416992 -42.445369720458984 False {'max_legnth_reached': False, 'reached': False}\n",
      "i recieved: 42.44633102416992\n",
      "42.44633102416992 -42.44633102416992 False {'max_legnth_reached': False, 'reached': False}\n",
      "i recieved: 42.442501068115234\n",
      "42.442501068115234 -42.44633102416992 False {'max_legnth_reached': False, 'reached': False}\n",
      "i recieved: 42.43488311767578\n",
      "42.43488311767578 -42.442501068115234 False {'max_legnth_reached': False, 'reached': False}\n"
     ]
    },
    {
     "name": "stderr",
     "output_type": "stream",
     "text": [
      "[INFO] [1720794568.046159639] [my_node]: Publishing: \"1.58\"\n",
      "[INFO] [1720794568.052772750] [my_node]: Publishing: \"1.58\"\n",
      "[INFO] [1720794568.090076606] [my_node]: Publishing: \"1.58\"\n",
      "[INFO] [1720794568.188588805] [my_node]: Publishing: \"1.58\"\n"
     ]
    },
    {
     "name": "stdout",
     "output_type": "stream",
     "text": [
      "i recieved: 42.43488311767578\n",
      "42.43488311767578 -42.43488311767578 False {'max_legnth_reached': False, 'reached': False}\n",
      "i recieved: 42.43488311767578\n",
      "42.43488311767578 -42.43488311767578 False {'max_legnth_reached': False, 'reached': False}\n",
      "i recieved: 42.42724609375\n",
      "42.42724609375 -42.43488311767578 False {'max_legnth_reached': False, 'reached': False}\n"
     ]
    },
    {
     "name": "stderr",
     "output_type": "stream",
     "text": [
      "[INFO] [1720794568.285874409] [my_node]: Publishing: \"1.58\"\n",
      "[INFO] [1720794568.385131784] [my_node]: Publishing: \"1.58\"\n",
      "[INFO] [1720794568.486986029] [my_node]: Publishing: \"1.58\"\n",
      "[INFO] [1720794568.588299283] [my_node]: Publishing: \"1.58\"\n",
      "[INFO] [1720794568.686224753] [my_node]: Publishing: \"1.58\"\n"
     ]
    },
    {
     "name": "stdout",
     "output_type": "stream",
     "text": [
      "i recieved: 42.43646240234375\n",
      "42.43646240234375 -42.42724609375 False {'max_legnth_reached': False, 'reached': False}\n",
      "i recieved: 42.43646240234375\n",
      "42.43646240234375 -42.43646240234375 False {'max_legnth_reached': False, 'reached': False}\n",
      "i recieved: 42.43647766113281\n",
      "42.43647766113281 -42.43646240234375 False {'max_legnth_reached': False, 'reached': False}\n",
      "i recieved: 42.43647766113281\n",
      "42.43647766113281 -42.43647766113281 False {'max_legnth_reached': False, 'reached': False}\n",
      "i recieved: 42.446311950683594\n",
      "42.446311950683594 -42.43647766113281 False {'max_legnth_reached': False, 'reached': False}\n"
     ]
    },
    {
     "name": "stderr",
     "output_type": "stream",
     "text": [
      "[INFO] [1720794568.858485419] [my_node]: Publishing: \"1.58\"\n",
      "[INFO] [1720794568.886517196] [my_node]: Publishing: \"1.58\"\n",
      "[INFO] [1720794568.988996194] [my_node]: Publishing: \"1.58\"\n"
     ]
    },
    {
     "name": "stdout",
     "output_type": "stream",
     "text": [
      "i recieved: 42.446311950683594\n",
      "42.446311950683594 -42.446311950683594 False {'max_legnth_reached': False, 'reached': False}\n",
      "i recieved: 42.446311950683594\n",
      "42.446311950683594 -42.446311950683594 False {'max_legnth_reached': False, 'reached': False}\n",
      "i recieved: 42.44727325439453\n",
      "42.44727325439453 -42.446311950683594 False {'max_legnth_reached': False, 'reached': False}\n"
     ]
    },
    {
     "name": "stderr",
     "output_type": "stream",
     "text": [
      "[INFO] [1720794569.089056655] [my_node]: Publishing: \"1.58\"\n",
      "[INFO] [1720794569.190932065] [my_node]: Publishing: \"1.58\"\n",
      "[INFO] [1720794569.287376613] [my_node]: Publishing: \"1.58\"\n"
     ]
    },
    {
     "name": "stdout",
     "output_type": "stream",
     "text": [
      "i recieved: 42.436153411865234\n",
      "42.436153411865234 -42.44727325439453 False {'max_legnth_reached': False, 'reached': False}\n",
      "i recieved: 42.426300048828125\n",
      "42.426300048828125 -42.436153411865234 False {'max_legnth_reached': False, 'reached': False}\n",
      "i recieved: 42.42439651489258\n",
      "42.42439651489258 -42.426300048828125 False {'max_legnth_reached': False, 'reached': False}\n"
     ]
    },
    {
     "name": "stderr",
     "output_type": "stream",
     "text": [
      "[INFO] [1720794569.392934094] [my_node]: Publishing: \"1.58\"\n",
      "[INFO] [1720794569.488311182] [my_node]: Publishing: \"1.58\"\n",
      "[INFO] [1720794569.590495857] [my_node]: Publishing: \"1.58\"\n"
     ]
    },
    {
     "name": "stdout",
     "output_type": "stream",
     "text": [
      "i recieved: 42.42439651489258\n",
      "42.42439651489258 -42.42439651489258 False {'max_legnth_reached': False, 'reached': False}\n",
      "i recieved: 42.42439651489258\n",
      "42.42439651489258 -42.42439651489258 False {'max_legnth_reached': False, 'reached': False}\n",
      "i recieved: 42.42439651489258\n",
      "42.42439651489258 -42.42439651489258 False {'max_legnth_reached': False, 'reached': False}\n"
     ]
    },
    {
     "name": "stderr",
     "output_type": "stream",
     "text": [
      "[INFO] [1720794569.690603607] [my_node]: Publishing: \"1.58\"\n",
      "[INFO] [1720794569.884129907] [my_node]: Publishing: \"1.58\"\n",
      "[INFO] [1720794569.890544043] [my_node]: Publishing: \"1.58\"\n"
     ]
    },
    {
     "name": "stdout",
     "output_type": "stream",
     "text": [
      "i recieved: 42.42439651489258\n",
      "42.42439651489258 -42.42439651489258 False {'max_legnth_reached': False, 'reached': False}\n",
      "i recieved: 42.418663024902344\n",
      "42.418663024902344 -42.42439651489258 False {'max_legnth_reached': False, 'reached': False}\n"
     ]
    },
    {
     "name": "stderr",
     "output_type": "stream",
     "text": [
      "[INFO] [1720794569.985853364] [my_node]: Publishing: \"1.58\"\n",
      "[INFO] [1720794570.085369386] [my_node]: Publishing: \"1.58\"\n"
     ]
    },
    {
     "name": "stdout",
     "output_type": "stream",
     "text": [
      "i recieved: 42.43013000488281\n",
      "42.43013000488281 -42.418663024902344 False {'max_legnth_reached': False, 'reached': False}\n",
      "i recieved: 42.43013000488281\n",
      "42.43013000488281 -42.43013000488281 False {'max_legnth_reached': False, 'reached': False}\n",
      "i recieved: 42.43013000488281\n",
      "42.43013000488281 -42.43013000488281 False {'max_legnth_reached': False, 'reached': False}\n"
     ]
    },
    {
     "name": "stderr",
     "output_type": "stream",
     "text": [
      "[INFO] [1720794570.188108180] [my_node]: Publishing: \"1.58\"\n",
      "[INFO] [1720794570.289184082] [my_node]: Publishing: \"1.58\"\n",
      "[INFO] [1720794570.390728264] [my_node]: Publishing: \"1.58\"\n",
      "[INFO] [1720794570.492612025] [my_node]: Publishing: \"1.58\"\n",
      "[INFO] [1720794570.592170769] [my_node]: Publishing: \"1.58\"\n"
     ]
    },
    {
     "name": "stdout",
     "output_type": "stream",
     "text": [
      "i recieved: 42.43013000488281\n",
      "42.43013000488281 -42.43013000488281 False {'max_legnth_reached': False, 'reached': False}\n",
      "i recieved: 42.43013000488281\n",
      "42.43013000488281 -42.43013000488281 False {'max_legnth_reached': False, 'reached': False}\n",
      "i recieved: 42.44282913208008\n",
      "42.44282913208008 -42.43013000488281 False {'max_legnth_reached': False, 'reached': False}\n"
     ]
    },
    {
     "name": "stderr",
     "output_type": "stream",
     "text": [
      "[INFO] [1720794570.688891257] [my_node]: Publishing: \"1.58\"\n",
      "[INFO] [1720794570.792531533] [my_node]: Publishing: \"1.58\"\n",
      "[INFO] [1720794570.889989983] [my_node]: Publishing: \"1.58\"\n"
     ]
    },
    {
     "name": "stdout",
     "output_type": "stream",
     "text": [
      "i recieved: 42.44282913208008\n",
      "42.44282913208008 -42.44282913208008 False {'max_legnth_reached': False, 'reached': False}\n",
      "i recieved: 42.423126220703125\n",
      "42.423126220703125 -42.44282913208008 False {'max_legnth_reached': False, 'reached': False}\n",
      "i recieved: 42.423126220703125\n",
      "42.423126220703125 -42.423126220703125 False {'max_legnth_reached': False, 'reached': False}\n",
      "i recieved: 42.42058563232422\n",
      "42.42058563232422 -42.423126220703125 False {'max_legnth_reached': False, 'reached': False}\n",
      "i recieved: 42.42058563232422\n",
      "42.42058563232422 -42.42058563232422 False {'max_legnth_reached': False, 'reached': False}\n",
      "i recieved: 42.39768981933594\n",
      "42.39768981933594 -42.42058563232422 False {'max_legnth_reached': False, 'reached': False}\n"
     ]
    },
    {
     "name": "stderr",
     "output_type": "stream",
     "text": [
      "[INFO] [1720794571.116993407] [my_node]: Publishing: \"1.58\"\n",
      "[INFO] [1720794571.119573665] [my_node]: Publishing: \"1.58\"\n",
      "[INFO] [1720794571.189089432] [my_node]: Publishing: \"1.58\"\n",
      "[INFO] [1720794571.289737784] [my_node]: Publishing: \"1.58\"\n"
     ]
    },
    {
     "name": "stdout",
     "output_type": "stream",
     "text": [
      "i recieved: 42.39768981933594\n",
      "42.39768981933594 -42.39768981933594 False {'max_legnth_reached': False, 'reached': False}\n",
      "i recieved: 42.39768981933594\n",
      "42.39768981933594 -42.39768981933594 False {'max_legnth_reached': False, 'reached': False}\n",
      "i recieved: 42.39768981933594\n",
      "42.39768981933594 -42.39768981933594 False {'max_legnth_reached': False, 'reached': False}\n"
     ]
    },
    {
     "name": "stderr",
     "output_type": "stream",
     "text": [
      "[INFO] [1720794571.392338885] [my_node]: Publishing: \"1.58\"\n",
      "[INFO] [1720794571.490094670] [my_node]: Publishing: \"1.58\"\n",
      "[INFO] [1720794571.585949151] [my_node]: Publishing: \"1.58\"\n"
     ]
    },
    {
     "name": "stdout",
     "output_type": "stream",
     "text": [
      "i recieved: 42.39768981933594\n",
      "42.39768981933594 -42.39768981933594 False {'max_legnth_reached': False, 'reached': False}\n",
      "i recieved: 42.392608642578125\n",
      "42.392608642578125 -42.39768981933594 False {'max_legnth_reached': False, 'reached': False}\n",
      "i recieved: 42.3681526184082\n",
      "42.3681526184082 -42.392608642578125 False {'max_legnth_reached': False, 'reached': False}\n"
     ]
    },
    {
     "name": "stderr",
     "output_type": "stream",
     "text": [
      "[INFO] [1720794571.690481753] [my_node]: Publishing: \"1.58\"\n",
      "[INFO] [1720794571.790101052] [my_node]: Publishing: \"1.58\"\n",
      "[INFO] [1720794571.890889612] [my_node]: Publishing: \"1.58\"\n"
     ]
    },
    {
     "name": "stdout",
     "output_type": "stream",
     "text": [
      "i recieved: 42.036956787109375\n",
      "42.036956787109375 -42.3681526184082 False {'max_legnth_reached': False, 'reached': False}\n",
      "i recieved: 42.036956787109375\n",
      "42.036956787109375 -42.036956787109375 False {'max_legnth_reached': False, 'reached': False}\n"
     ]
    },
    {
     "name": "stderr",
     "output_type": "stream",
     "text": [
      "[INFO] [1720794571.989395431] [my_node]: Publishing: \"1.58\"\n",
      "[INFO] [1720794572.087341843] [my_node]: Publishing: \"1.58\"\n"
     ]
    },
    {
     "name": "stdout",
     "output_type": "stream",
     "text": [
      "i recieved: 41.989280700683594\n",
      "41.989280700683594 -42.036956787109375 False {'max_legnth_reached': False, 'reached': False}\n",
      "i recieved: 42.03091812133789\n",
      "42.03091812133789 -41.989280700683594 False {'max_legnth_reached': False, 'reached': False}\n",
      "i recieved: 42.03091812133789\n",
      "42.03091812133789 -42.03091812133789 False {'max_legnth_reached': False, 'reached': False}\n"
     ]
    },
    {
     "name": "stderr",
     "output_type": "stream",
     "text": [
      "[INFO] [1720794572.252524731] [my_node]: Publishing: \"1.58\"\n",
      "[INFO] [1720794572.290899704] [my_node]: Publishing: \"1.58\"\n",
      "[INFO] [1720794572.396629689] [my_node]: Publishing: \"1.58\"\n"
     ]
    },
    {
     "name": "stdout",
     "output_type": "stream",
     "text": [
      "i recieved: 42.03091812133789\n",
      "42.03091812133789 -42.03091812133789 False {'max_legnth_reached': False, 'reached': False}\n",
      "i recieved: 42.07224655151367\n",
      "42.07224655151367 -42.03091812133789 False {'max_legnth_reached': False, 'reached': False}\n",
      "i recieved: 42.381797790527344\n",
      "42.381797790527344 -42.07224655151367 False {'max_legnth_reached': False, 'reached': False}\n"
     ]
    },
    {
     "name": "stderr",
     "output_type": "stream",
     "text": [
      "[INFO] [1720794572.489935180] [my_node]: Publishing: \"1.58\"\n",
      "[INFO] [1720794572.592887397] [my_node]: Publishing: \"1.58\"\n",
      "[INFO] [1720794572.689705763] [my_node]: Publishing: \"1.58\"\n"
     ]
    },
    {
     "name": "stdout",
     "output_type": "stream",
     "text": [
      "i recieved: 42.399288177490234\n",
      "42.399288177490234 -42.381797790527344 False {'max_legnth_reached': False, 'reached': False}\n",
      "i recieved: 42.44219207763672\n",
      "42.44219207763672 -42.399288177490234 False {'max_legnth_reached': False, 'reached': False}\n",
      "i recieved: 42.44694900512695\n",
      "42.44694900512695 -42.44219207763672 False {'max_legnth_reached': False, 'reached': False}\n"
     ]
    },
    {
     "name": "stderr",
     "output_type": "stream",
     "text": [
      "[INFO] [1720794572.791801283] [my_node]: Publishing: \"1.58\"\n",
      "[INFO] [1720794572.890051742] [my_node]: Publishing: \"1.58\"\n",
      "[INFO] [1720794572.995998742] [my_node]: Publishing: \"1.58\"\n"
     ]
    },
    {
     "name": "stdout",
     "output_type": "stream",
     "text": [
      "i recieved: 42.44694900512695\n",
      "42.44694900512695 -42.44694900512695 False {'max_legnth_reached': False, 'reached': False}\n",
      "i recieved: 42.44694900512695\n",
      "42.44694900512695 -42.44694900512695 False {'max_legnth_reached': False, 'reached': False}\n",
      "i recieved: 42.44694900512695\n",
      "42.44694900512695 -42.44694900512695 False {'max_legnth_reached': False, 'reached': False}\n"
     ]
    },
    {
     "name": "stderr",
     "output_type": "stream",
     "text": [
      "[INFO] [1720794573.091254983] [my_node]: Publishing: \"1.58\"\n",
      "[INFO] [1720794573.188759969] [my_node]: Publishing: \"1.58\"\n",
      "[INFO] [1720794573.290084470] [my_node]: Publishing: \"1.58\"\n"
     ]
    },
    {
     "name": "stdout",
     "output_type": "stream",
     "text": [
      "i recieved: 42.44694900512695\n",
      "42.44694900512695 -42.44694900512695 False {'max_legnth_reached': False, 'reached': False}\n",
      "i recieved: 42.44506072998047\n",
      "42.44506072998047 -42.44694900512695 False {'max_legnth_reached': False, 'reached': False}\n"
     ]
    },
    {
     "name": "stderr",
     "output_type": "stream",
     "text": [
      "[INFO] [1720794573.393540621] [my_node]: Publishing: \"1.58\"\n",
      "[INFO] [1720794573.489760344] [my_node]: Publishing: \"1.58\"\n"
     ]
    },
    {
     "name": "stdout",
     "output_type": "stream",
     "text": [
      "i recieved: 42.434574127197266\n",
      "42.434574127197266 -42.44506072998047 False {'max_legnth_reached': False, 'reached': False}\n",
      "i recieved: 42.434574127197266\n",
      "42.434574127197266 -42.434574127197266 False {'max_legnth_reached': False, 'reached': False}\n",
      "i recieved: 42.434574127197266\n",
      "42.434574127197266 -42.434574127197266 False {'max_legnth_reached': False, 'reached': False}\n",
      "i recieved: 42.434574127197266\n",
      "42.434574127197266 -42.434574127197266 False {'max_legnth_reached': False, 'reached': False}\n"
     ]
    },
    {
     "name": "stderr",
     "output_type": "stream",
     "text": [
      "[INFO] [1720794573.780363155] [my_node]: Publishing: \"1.58\"\n",
      "[INFO] [1720794573.783058382] [my_node]: Publishing: \"1.58\"\n",
      "[INFO] [1720794573.787380311] [my_node]: Publishing: \"1.58\"\n",
      "[INFO] [1720794573.891183619] [my_node]: Publishing: \"1.58\"\n"
     ]
    },
    {
     "name": "stdout",
     "output_type": "stream",
     "text": [
      "i recieved: 42.43107223510742\n",
      "42.43107223510742 -42.434574127197266 False {'max_legnth_reached': False, 'reached': False}\n",
      "i recieved: 42.43107223510742\n",
      "42.43107223510742 -42.43107223510742 False {'max_legnth_reached': False, 'reached': False}\n",
      "i recieved: 42.43107223510742\n",
      "42.43107223510742 -42.43107223510742 False {'max_legnth_reached': False, 'reached': False}\n"
     ]
    },
    {
     "name": "stderr",
     "output_type": "stream",
     "text": [
      "[INFO] [1720794573.989427049] [my_node]: Publishing: \"1.58\"\n",
      "[INFO] [1720794574.091513220] [my_node]: Publishing: \"1.58\"\n",
      "[INFO] [1720794574.190150370] [my_node]: Publishing: \"1.58\"\n",
      "[INFO] [1720794574.290407033] [my_node]: Publishing: \"1.58\"\n",
      "[INFO] [1720794574.390644364] [my_node]: Publishing: \"1.58\"\n"
     ]
    },
    {
     "name": "stdout",
     "output_type": "stream",
     "text": [
      "i recieved: 42.43107223510742\n",
      "42.43107223510742 -42.43107223510742 False {'max_legnth_reached': False, 'reached': False}\n",
      "i recieved: 42.43901824951172\n",
      "42.43901824951172 -42.43107223510742 False {'max_legnth_reached': False, 'reached': False}\n",
      "i recieved: 42.41868209838867\n",
      "42.41868209838867 -42.43901824951172 False {'max_legnth_reached': False, 'reached': False}\n",
      "i recieved: 42.41804504394531\n",
      "42.41804504394531 -42.41868209838867 False {'max_legnth_reached': False, 'reached': False}\n",
      "i recieved: 42.417720794677734\n",
      "42.417720794677734 -42.41804504394531 False {'max_legnth_reached': False, 'reached': False}\n",
      "i recieved: 42.41804504394531\n",
      "42.41804504394531 -42.417720794677734 False {'max_legnth_reached': False, 'reached': False}\n"
     ]
    },
    {
     "name": "stderr",
     "output_type": "stream",
     "text": [
      "[INFO] [1720794574.596982433] [my_node]: Publishing: \"1.58\"\n",
      "[INFO] [1720794574.599695655] [my_node]: Publishing: \"1.58\"\n",
      "[INFO] [1720794574.687894183] [my_node]: Publishing: \"1.58\"\n",
      "[INFO] [1720794574.790187212] [my_node]: Publishing: \"1.58\"\n"
     ]
    },
    {
     "name": "stdout",
     "output_type": "stream",
     "text": [
      "i recieved: 42.41804504394531\n",
      "42.41804504394531 -42.41804504394531 False {'max_legnth_reached': False, 'reached': False}\n",
      "i recieved: 42.41804504394531\n",
      "42.41804504394531 -42.41804504394531 False {'max_legnth_reached': False, 'reached': False}\n",
      "i recieved: 42.426937103271484\n",
      "42.426937103271484 -42.41804504394531 False {'max_legnth_reached': False, 'reached': False}\n",
      "i recieved: 42.426937103271484\n",
      "42.426937103271484 -42.426937103271484 False {'max_legnth_reached': False, 'reached': False}\n"
     ]
    },
    {
     "name": "stderr",
     "output_type": "stream",
     "text": [
      "[INFO] [1720794575.009327059] [my_node]: Publishing: \"1.58\"\n",
      "[INFO] [1720794575.016769524] [my_node]: Publishing: \"1.58\"\n",
      "[INFO] [1720794575.092101909] [my_node]: Publishing: \"1.58\"\n",
      "[INFO] [1720794575.190354184] [my_node]: Publishing: \"1.58\"\n"
     ]
    },
    {
     "name": "stdout",
     "output_type": "stream",
     "text": [
      "i recieved: 42.43901824951172\n",
      "42.43901824951172 -42.426937103271484 False {'max_legnth_reached': False, 'reached': False}\n",
      "i recieved: 42.44219207763672\n",
      "42.44219207763672 -42.43901824951172 False {'max_legnth_reached': False, 'reached': False}\n",
      "i recieved: 42.44219207763672\n",
      "42.44219207763672 -42.44219207763672 False {'max_legnth_reached': False, 'reached': False}\n"
     ]
    },
    {
     "name": "stderr",
     "output_type": "stream",
     "text": [
      "[INFO] [1720794575.292282799] [my_node]: Publishing: \"1.58\"\n",
      "[INFO] [1720794575.389678741] [my_node]: Publishing: \"1.58\"\n",
      "[INFO] [1720794575.489552960] [my_node]: Publishing: \"1.58\"\n"
     ]
    },
    {
     "name": "stdout",
     "output_type": "stream",
     "text": [
      "i recieved: 42.445369720458984\n",
      "42.445369720458984 -42.44219207763672 False {'max_legnth_reached': False, 'reached': False}\n",
      "i recieved: 42.43901824951172\n",
      "42.43901824951172 -42.445369720458984 False {'max_legnth_reached': False, 'reached': False}\n"
     ]
    },
    {
     "name": "stderr",
     "output_type": "stream",
     "text": [
      "[INFO] [1720794575.592610119] [my_node]: Publishing: \"1.58\"\n",
      "[INFO] [1720794575.691047553] [my_node]: Publishing: \"1.58\"\n"
     ]
    },
    {
     "name": "stdout",
     "output_type": "stream",
     "text": [
      "i recieved: 42.4546012878418\n",
      "42.4546012878418 -42.43901824951172 False {'max_legnth_reached': False, 'reached': False}\n",
      "i recieved: 42.445369720458984\n",
      "42.445369720458984 -42.4546012878418 False {'max_legnth_reached': False, 'reached': False}\n",
      "i recieved: 42.438385009765625\n",
      "42.438385009765625 -42.445369720458984 False {'max_legnth_reached': False, 'reached': False}\n"
     ]
    },
    {
     "name": "stderr",
     "output_type": "stream",
     "text": [
      "[INFO] [1720794575.929865988] [my_node]: Publishing: \"1.58\"\n",
      "[INFO] [1720794575.935681434] [my_node]: Publishing: \"1.58\"\n",
      "[INFO] [1720794575.991319816] [my_node]: Publishing: \"1.58\"\n"
     ]
    },
    {
     "name": "stdout",
     "output_type": "stream",
     "text": [
      "i recieved: 42.437747955322266\n",
      "42.437747955322266 -42.438385009765625 False {'max_legnth_reached': False, 'reached': False}\n",
      "i recieved: 42.438385009765625\n",
      "42.438385009765625 -42.437747955322266 False {'max_legnth_reached': False, 'reached': False}\n",
      "i recieved: 42.438385009765625\n",
      "42.438385009765625 -42.438385009765625 False {'max_legnth_reached': False, 'reached': False}\n"
     ]
    },
    {
     "name": "stderr",
     "output_type": "stream",
     "text": [
      "[INFO] [1720794576.220384869] [my_node]: Publishing: \"1.58\"\n",
      "[INFO] [1720794576.227715773] [my_node]: Publishing: \"1.58\"\n",
      "[INFO] [1720794576.289620821] [my_node]: Publishing: \"1.58\"\n"
     ]
    },
    {
     "name": "stdout",
     "output_type": "stream",
     "text": [
      "i recieved: 42.42757034301758\n",
      "42.42757034301758 -42.438385009765625 False {'max_legnth_reached': False, 'reached': False}\n",
      "i recieved: 42.42757034301758\n",
      "42.42757034301758 -42.42757034301758 False {'max_legnth_reached': False, 'reached': False}\n",
      "i recieved: 42.424705505371094\n",
      "42.424705505371094 -42.42757034301758 False {'max_legnth_reached': False, 'reached': False}\n",
      "i recieved: 42.424705505371094\n",
      "42.424705505371094 -42.424705505371094 False {'max_legnth_reached': False, 'reached': False}\n"
     ]
    },
    {
     "name": "stderr",
     "output_type": "stream",
     "text": [
      "[INFO] [1720794576.543134498] [my_node]: Publishing: \"1.58\"\n",
      "[INFO] [1720794576.548751615] [my_node]: Publishing: \"1.58\"\n",
      "[INFO] [1720794576.589229837] [my_node]: Publishing: \"1.58\"\n",
      "[INFO] [1720794576.689349263] [my_node]: Publishing: \"1.58\"\n"
     ]
    },
    {
     "name": "stdout",
     "output_type": "stream",
     "text": [
      "i recieved: 42.424705505371094\n",
      "42.424705505371094 -42.424705505371094 False {'max_legnth_reached': False, 'reached': False}\n",
      "i recieved: 42.43105697631836\n",
      "42.43105697631836 -42.424705505371094 False {'max_legnth_reached': False, 'reached': False}\n",
      "i recieved: 42.43711471557617\n",
      "42.43711471557617 -42.43105697631836 False {'max_legnth_reached': False, 'reached': False}\n"
     ]
    },
    {
     "name": "stderr",
     "output_type": "stream",
     "text": [
      "[INFO] [1720794576.792110825] [my_node]: Publishing: \"1.58\"\n",
      "[INFO] [1720794576.889209706] [my_node]: Publishing: \"1.58\"\n",
      "[INFO] [1720794576.994318452] [my_node]: Publishing: \"1.58\"\n",
      "[INFO] [1720794577.091251993] [my_node]: Publishing: \"1.58\"\n",
      "[INFO] [1720794577.192233685] [my_node]: Publishing: \"1.58\"\n"
     ]
    },
    {
     "name": "stdout",
     "output_type": "stream",
     "text": [
      "i recieved: 42.43711471557617\n",
      "42.43711471557617 -42.43711471557617 False {'max_legnth_reached': False, 'reached': False}\n",
      "i recieved: 42.43869400024414\n",
      "42.43869400024414 -42.43711471557617 False {'max_legnth_reached': False, 'reached': False}\n",
      "i recieved: 42.43105697631836\n",
      "42.43105697631836 -42.43869400024414 False {'max_legnth_reached': False, 'reached': False}\n"
     ]
    },
    {
     "name": "stderr",
     "output_type": "stream",
     "text": [
      "[INFO] [1720794577.292442539] [my_node]: Publishing: \"1.58\"\n",
      "[INFO] [1720794577.390755286] [my_node]: Publishing: \"1.58\"\n",
      "[INFO] [1720794577.490058592] [my_node]: Publishing: \"1.58\"\n"
     ]
    },
    {
     "name": "stdout",
     "output_type": "stream",
     "text": [
      "i recieved: 42.42851638793945\n",
      "42.42851638793945 -42.43105697631836 False {'max_legnth_reached': False, 'reached': False}\n",
      "i recieved: 42.42851638793945\n",
      "42.42851638793945 -42.42851638793945 False {'max_legnth_reached': False, 'reached': False}\n",
      "i recieved: 42.41136932373047\n",
      "42.41136932373047 -42.42851638793945 False {'max_legnth_reached': False, 'reached': False}\n"
     ]
    },
    {
     "name": "stderr",
     "output_type": "stream",
     "text": [
      "[INFO] [1720794577.584158692] [my_node]: Publishing: \"1.58\"\n"
     ]
    },
    {
     "name": "stdout",
     "output_type": "stream",
     "text": [
      "i recieved: 42.41518020629883\n",
      "42.41518020629883 -42.41136932373047 False {'max_legnth_reached': False, 'reached': False}\n",
      "i recieved: 42.42279815673828\n",
      "42.42279815673828 -42.41518020629883 False {'max_legnth_reached': False, 'reached': False}\n",
      "i recieved: 42.41518020629883\n",
      "42.41518020629883 -42.42279815673828 False {'max_legnth_reached': False, 'reached': False}\n",
      "i recieved: 42.41518020629883\n",
      "42.41518020629883 -42.41518020629883 False {'max_legnth_reached': False, 'reached': False}\n"
     ]
    },
    {
     "name": "stderr",
     "output_type": "stream",
     "text": [
      "[INFO] [1720794577.799405623] [my_node]: Publishing: \"1.58\"\n",
      "[INFO] [1720794577.848691271] [my_node]: Publishing: \"1.58\"\n",
      "[INFO] [1720794577.890006249] [my_node]: Publishing: \"1.58\"\n",
      "[INFO] [1720794577.987122725] [my_node]: Publishing: \"1.58\"\n"
     ]
    },
    {
     "name": "stdout",
     "output_type": "stream",
     "text": [
      "i recieved: 42.41518020629883\n",
      "42.41518020629883 -42.41518020629883 False {'max_legnth_reached': False, 'reached': False}\n",
      "i recieved: 42.41518020629883\n",
      "42.41518020629883 -42.41518020629883 False {'max_legnth_reached': False, 'reached': False}\n"
     ]
    },
    {
     "name": "stderr",
     "output_type": "stream",
     "text": [
      "[INFO] [1720794578.209023218] [my_node]: Publishing: \"1.58\"\n",
      "[INFO] [1720794578.239632211] [my_node]: Publishing: \"1.58\"\n"
     ]
    },
    {
     "name": "stdout",
     "output_type": "stream",
     "text": [
      "i recieved: 42.41200256347656\n",
      "42.41200256347656 -42.41518020629883 False {'max_legnth_reached': False, 'reached': False}\n",
      "i recieved: 42.41200256347656\n",
      "42.41200256347656 -42.41200256347656 False {'max_legnth_reached': False, 'reached': False}\n",
      "i recieved: 42.41200256347656\n",
      "42.41200256347656 -42.41200256347656 False {'max_legnth_reached': False, 'reached': False}\n",
      "i recieved: 42.412620544433594\n",
      "42.412620544433594 -42.41200256347656 False {'max_legnth_reached': False, 'reached': False}\n"
     ]
    },
    {
     "name": "stderr",
     "output_type": "stream",
     "text": [
      "[INFO] [1720794578.494097507] [my_node]: Publishing: \"1.58\"\n",
      "[INFO] [1720794578.501704682] [my_node]: Publishing: \"1.58\"\n",
      "[INFO] [1720794578.506025246] [my_node]: Publishing: \"1.58\"\n",
      "[INFO] [1720794578.600739615] [my_node]: Publishing: \"1.58\"\n"
     ]
    },
    {
     "name": "stdout",
     "output_type": "stream",
     "text": [
      "i recieved: 42.412620544433594\n",
      "42.412620544433594 -42.412620544433594 False {'max_legnth_reached': False, 'reached': False}\n",
      "i recieved: 42.424705505371094\n",
      "42.424705505371094 -42.412620544433594 False {'max_legnth_reached': False, 'reached': False}\n"
     ]
    },
    {
     "name": "stderr",
     "output_type": "stream",
     "text": [
      "[INFO] [1720794578.826802714] [my_node]: Publishing: \"1.58\"\n",
      "[INFO] [1720794578.834328736] [my_node]: Publishing: \"1.58\"\n",
      "[INFO] [1720794579.032423479] [my_node]: Publishing: \"1.58\"\n"
     ]
    },
    {
     "name": "stdout",
     "output_type": "stream",
     "text": [
      "i recieved: 42.424705505371094\n",
      "42.424705505371094 -42.424705505371094 False {'max_legnth_reached': False, 'reached': False}\n",
      "i recieved: 42.412620544433594\n",
      "42.412620544433594 -42.424705505371094 False {'max_legnth_reached': False, 'reached': False}\n",
      "i recieved: 42.40882873535156\n",
      "42.40882873535156 -42.412620544433594 False {'max_legnth_reached': False, 'reached': False}\n"
     ]
    },
    {
     "name": "stderr",
     "output_type": "stream",
     "text": [
      "[INFO] [1720794579.121244118] [my_node]: Publishing: \"1.58\"\n",
      "[INFO] [1720794579.129028139] [my_node]: Publishing: \"1.58\"\n"
     ]
    },
    {
     "name": "stdout",
     "output_type": "stream",
     "text": [
      "i recieved: 42.40723419189453\n",
      "42.40723419189453 -42.40882873535156 False {'max_legnth_reached': False, 'reached': False}\n",
      "i recieved: 42.406925201416016\n",
      "42.406925201416016 -42.40723419189453 False {'max_legnth_reached': False, 'reached': False}\n",
      "i recieved: 42.39578628540039\n",
      "42.39578628540039 -42.406925201416016 False {'max_legnth_reached': False, 'reached': False}\n",
      "i recieved: 42.40723419189453\n",
      "42.40723419189453 -42.39578628540039 False {'max_legnth_reached': False, 'reached': False}\n"
     ]
    },
    {
     "name": "stderr",
     "output_type": "stream",
     "text": [
      "[INFO] [1720794579.413619258] [my_node]: Publishing: \"1.58\"\n",
      "[INFO] [1720794579.421947830] [my_node]: Publishing: \"1.58\"\n",
      "[INFO] [1720794579.466038051] [my_node]: Publishing: \"1.58\"\n",
      "[INFO] [1720794579.492452845] [my_node]: Publishing: \"1.58\"\n"
     ]
    },
    {
     "name": "stdout",
     "output_type": "stream",
     "text": [
      "i recieved: 42.40723419189453\n",
      "42.40723419189453 -42.40723419189453 False {'max_legnth_reached': False, 'reached': False}\n",
      "i recieved: 42.39482498168945\n",
      "42.39482498168945 -42.40723419189453 False {'max_legnth_reached': False, 'reached': False}\n",
      "i recieved: 42.39482498168945\n",
      "42.39482498168945 -42.39482498168945 False {'max_legnth_reached': False, 'reached': False}\n"
     ]
    },
    {
     "name": "stderr",
     "output_type": "stream",
     "text": [
      "[INFO] [1720794579.722052843] [my_node]: Publishing: \"1.58\"\n",
      "[INFO] [1720794579.809398172] [my_node]: Publishing: \"1.58\"\n",
      "[INFO] [1720794579.813740330] [my_node]: Publishing: \"1.58\"\n"
     ]
    },
    {
     "name": "stdout",
     "output_type": "stream",
     "text": [
      "i recieved: 42.02677917480469\n",
      "42.02677917480469 -42.39482498168945 False {'max_legnth_reached': False, 'reached': False}\n",
      "i recieved: 42.02677917480469\n",
      "42.02677917480469 -42.02677917480469 False {'max_legnth_reached': False, 'reached': False}\n"
     ]
    },
    {
     "name": "stderr",
     "output_type": "stream",
     "text": [
      "[INFO] [1720794580.029147038] [my_node]: Publishing: \"1.58\"\n",
      "[INFO] [1720794580.037079102] [my_node]: Publishing: \"1.58\"\n",
      "[INFO] [1720794580.230078176] [my_node]: Publishing: \"1.58\"\n"
     ]
    },
    {
     "name": "stdout",
     "output_type": "stream",
     "text": [
      "i recieved: 42.02677917480469\n",
      "42.02677917480469 -42.02677917480469 False {'max_legnth_reached': False, 'reached': False}\n",
      "i recieved: 42.389434814453125\n",
      "42.389434814453125 -42.02677917480469 False {'max_legnth_reached': False, 'reached': False}\n",
      "i recieved: 42.389434814453125\n",
      "42.389434814453125 -42.389434814453125 False {'max_legnth_reached': False, 'reached': False}\n",
      "i recieved: 42.37544631958008\n",
      "42.37544631958008 -42.389434814453125 False {'max_legnth_reached': False, 'reached': False}\n",
      "i recieved: 42.37544631958008\n",
      "42.37544631958008 -42.37544631958008 False {'max_legnth_reached': False, 'reached': False}\n"
     ]
    },
    {
     "name": "stderr",
     "output_type": "stream",
     "text": [
      "[INFO] [1720794580.435408498] [my_node]: Publishing: \"1.58\"\n",
      "[INFO] [1720794580.442106481] [my_node]: Publishing: \"1.58\"\n",
      "[INFO] [1720794580.506030466] [my_node]: Publishing: \"1.58\"\n",
      "[INFO] [1720794580.513136691] [my_node]: Publishing: \"1.58\"\n"
     ]
    },
    {
     "name": "stdout",
     "output_type": "stream",
     "text": [
      "i recieved: 42.389434814453125\n",
      "42.389434814453125 -42.37544631958008 False {'max_legnth_reached': False, 'reached': False}\n",
      "i recieved: 42.399288177490234\n",
      "42.399288177490234 -42.389434814453125 False {'max_legnth_reached': False, 'reached': False}\n",
      "i recieved: 42.399288177490234\n",
      "42.399288177490234 -42.399288177490234 False {'max_legnth_reached': False, 'reached': False}\n"
     ]
    },
    {
     "name": "stderr",
     "output_type": "stream",
     "text": [
      "[INFO] [1720794580.743266759] [my_node]: Publishing: \"1.58\"\n",
      "[INFO] [1720794580.747779199] [my_node]: Publishing: \"1.58\"\n",
      "[INFO] [1720794580.848100222] [my_node]: Publishing: \"1.58\"\n"
     ]
    },
    {
     "name": "stdout",
     "output_type": "stream",
     "text": [
      "i recieved: 42.399288177490234\n",
      "42.399288177490234 -42.399288177490234 False {'max_legnth_reached': False, 'reached': False}\n",
      "i recieved: 42.39738082885742\n",
      "42.39738082885742 -42.399288177490234 False {'max_legnth_reached': False, 'reached': False}\n"
     ]
    },
    {
     "name": "stderr",
     "output_type": "stream",
     "text": [
      "[INFO] [1720794581.091994943] [my_node]: Publishing: \"1.58\"\n",
      "[INFO] [1720794581.099662177] [my_node]: Publishing: \"1.58\"\n"
     ]
    },
    {
     "name": "stdout",
     "output_type": "stream",
     "text": [
      "i recieved: 42.39738082885742\n",
      "42.39738082885742 -42.39738082885742 False {'max_legnth_reached': False, 'reached': False}\n",
      "i recieved: 42.396095275878906\n",
      "42.396095275878906 -42.39738082885742 False {'max_legnth_reached': False, 'reached': False}\n",
      "i recieved: 42.39068603515625\n",
      "42.39068603515625 -42.396095275878906 False {'max_legnth_reached': False, 'reached': False}\n",
      "i recieved: 42.389434814453125\n",
      "42.389434814453125 -42.39068603515625 False {'max_legnth_reached': False, 'reached': False}\n",
      "i recieved: 42.389434814453125\n",
      "42.389434814453125 -42.389434814453125 False {'max_legnth_reached': False, 'reached': False}\n"
     ]
    },
    {
     "name": "stderr",
     "output_type": "stream",
     "text": [
      "[INFO] [1720794581.294057234] [my_node]: Publishing: \"1.58\"\n",
      "[INFO] [1720794581.301388121] [my_node]: Publishing: \"1.58\"\n",
      "[INFO] [1720794581.306072905] [my_node]: Publishing: \"1.58\"\n",
      "[INFO] [1720794581.390576612] [my_node]: Publishing: \"1.58\"\n",
      "[INFO] [1720794581.490368284] [my_node]: Publishing: \"1.58\"\n"
     ]
    },
    {
     "name": "stdout",
     "output_type": "stream",
     "text": [
      "i recieved: 42.35828399658203\n",
      "42.35828399658203 -42.389434814453125 False {'max_legnth_reached': False, 'reached': False}\n",
      "i recieved: 42.35828399658203\n",
      "42.35828399658203 -42.35828399658203 False {'max_legnth_reached': False, 'reached': False}\n",
      "i recieved: 42.38753128051758\n",
      "42.38753128051758 -42.35828399658203 False {'max_legnth_reached': False, 'reached': False}\n"
     ]
    },
    {
     "name": "stderr",
     "output_type": "stream",
     "text": [
      "[INFO] [1720794581.587593152] [my_node]: Publishing: \"1.58\"\n",
      "[INFO] [1720794581.690963457] [my_node]: Publishing: \"1.58\"\n",
      "[INFO] [1720794581.797514381] [my_node]: Publishing: \"1.58\"\n",
      "[INFO] [1720794581.892555095] [my_node]: Publishing: \"1.58\"\n",
      "[INFO] [1720794581.991232322] [my_node]: Publishing: \"1.58\"\n"
     ]
    },
    {
     "name": "stdout",
     "output_type": "stream",
     "text": [
      "i recieved: 42.38529968261719\n",
      "42.38529968261719 -42.38753128051758 False {'max_legnth_reached': False, 'reached': False}\n",
      "i recieved: 42.39451599121094\n",
      "42.39451599121094 -42.38529968261719 False {'max_legnth_reached': False, 'reached': False}\n",
      "i recieved: 42.39451599121094\n",
      "42.39451599121094 -42.39451599121094 False {'max_legnth_reached': False, 'reached': False}\n",
      "i recieved: 42.415489196777344\n",
      "42.415489196777344 -42.39451599121094 False {'max_legnth_reached': False, 'reached': False}\n",
      "i recieved: 42.415489196777344\n",
      "42.415489196777344 -42.415489196777344 False {'max_legnth_reached': False, 'reached': False}\n"
     ]
    },
    {
     "name": "stderr",
     "output_type": "stream",
     "text": [
      "[INFO] [1720794582.171964436] [my_node]: Publishing: \"1.58\"\n",
      "[INFO] [1720794582.186306668] [my_node]: Publishing: \"1.58\"\n",
      "[INFO] [1720794582.291481214] [my_node]: Publishing: \"1.58\"\n"
     ]
    },
    {
     "name": "stdout",
     "output_type": "stream",
     "text": [
      "i recieved: 42.394840240478516\n",
      "42.394840240478516 -42.415489196777344 False {'max_legnth_reached': False, 'reached': False}\n",
      "i recieved: 42.458412170410156\n",
      "42.458412170410156 -42.394840240478516 False {'max_legnth_reached': False, 'reached': False}\n",
      "i recieved: 42.458412170410156\n",
      "42.458412170410156 -42.458412170410156 False {'max_legnth_reached': False, 'reached': False}\n"
     ]
    },
    {
     "name": "stderr",
     "output_type": "stream",
     "text": [
      "[INFO] [1720794582.392994692] [my_node]: Publishing: \"1.58\"\n",
      "[INFO] [1720794582.491449708] [my_node]: Publishing: \"1.58\"\n",
      "[INFO] [1720794582.596537187] [my_node]: Publishing: \"1.58\"\n"
     ]
    },
    {
     "name": "stdout",
     "output_type": "stream",
     "text": [
      "i recieved: 42.433937072753906\n",
      "42.433937072753906 -42.458412170410156 False {'max_legnth_reached': False, 'reached': False}\n",
      "i recieved: 42.400882720947266\n",
      "42.400882720947266 -42.433937072753906 False {'max_legnth_reached': False, 'reached': False}\n",
      "i recieved: 42.400882720947266\n",
      "42.400882720947266 -42.400882720947266 False {'max_legnth_reached': False, 'reached': False}\n"
     ]
    },
    {
     "name": "stderr",
     "output_type": "stream",
     "text": [
      "[INFO] [1720794582.695736901] [my_node]: Publishing: \"1.58\"\n",
      "[INFO] [1720794582.791647074] [my_node]: Publishing: \"1.58\"\n",
      "[INFO] [1720794582.895338500] [my_node]: Publishing: \"1.58\"\n"
     ]
    },
    {
     "name": "stdout",
     "output_type": "stream",
     "text": [
      "i recieved: 42.400882720947266\n",
      "42.400882720947266 -42.400882720947266 False {'max_legnth_reached': False, 'reached': False}\n",
      "i recieved: 42.400882720947266\n",
      "42.400882720947266 -42.400882720947266 False {'max_legnth_reached': False, 'reached': False}\n",
      "i recieved: 42.40277099609375\n",
      "42.40277099609375 -42.400882720947266 False {'max_legnth_reached': False, 'reached': False}\n",
      "i recieved: 42.40277099609375\n",
      "42.40277099609375 -42.40277099609375 False {'max_legnth_reached': False, 'reached': False}\n"
     ]
    },
    {
     "name": "stderr",
     "output_type": "stream",
     "text": [
      "[INFO] [1720794583.101902208] [my_node]: Publishing: \"1.58\"\n",
      "[INFO] [1720794583.109265108] [my_node]: Publishing: \"1.58\"\n",
      "[INFO] [1720794583.190680971] [my_node]: Publishing: \"1.58\"\n",
      "[INFO] [1720794583.292692209] [my_node]: Publishing: \"1.58\"\n"
     ]
    },
    {
     "name": "stdout",
     "output_type": "stream",
     "text": [
      "i recieved: 42.40913772583008\n",
      "42.40913772583008 -42.40277099609375 False {'max_legnth_reached': False, 'reached': False}\n"
     ]
    },
    {
     "name": "stderr",
     "output_type": "stream",
     "text": [
      "[INFO] [1720794583.392647261] [my_node]: Publishing: \"1.58\"\n"
     ]
    },
    {
     "name": "stdout",
     "output_type": "stream",
     "text": [
      "i recieved: 42.40913772583008\n",
      "42.40913772583008 -42.40913772583008 False {'max_legnth_reached': False, 'reached': False}\n",
      "i recieved: 42.40913772583008\n",
      "42.40913772583008 -42.40913772583008 False {'max_legnth_reached': False, 'reached': False}\n",
      "i recieved: 42.40913772583008\n",
      "42.40913772583008 -42.40913772583008 False {'max_legnth_reached': False, 'reached': False}\n",
      "i recieved: 42.40119171142578\n",
      "42.40119171142578 -42.40913772583008 False {'max_legnth_reached': False, 'reached': False}\n"
     ]
    },
    {
     "name": "stderr",
     "output_type": "stream",
     "text": [
      "[INFO] [1720794583.609134361] [my_node]: Publishing: \"1.58\"\n",
      "[INFO] [1720794583.616065685] [my_node]: Publishing: \"1.58\"\n",
      "[INFO] [1720794583.692320894] [my_node]: Publishing: \"1.58\"\n",
      "[INFO] [1720794583.791568850] [my_node]: Publishing: \"1.58\"\n"
     ]
    },
    {
     "name": "stdout",
     "output_type": "stream",
     "text": [
      "i recieved: 42.40119171142578\n",
      "42.40119171142578 -42.40119171142578 False {'max_legnth_reached': False, 'reached': False}\n",
      "i recieved: 42.390052795410156\n",
      "42.390052795410156 -42.40119171142578 False {'max_legnth_reached': False, 'reached': False}\n",
      "i recieved: 42.390052795410156\n",
      "42.390052795410156 -42.390052795410156 False {'max_legnth_reached': False, 'reached': False}\n"
     ]
    },
    {
     "name": "stderr",
     "output_type": "stream",
     "text": [
      "[INFO] [1720794583.891718748] [my_node]: Publishing: \"1.58\"\n",
      "[INFO] [1720794583.990841278] [my_node]: Publishing: \"1.58\"\n",
      "[INFO] [1720794584.092200599] [my_node]: Publishing: \"1.58\"\n"
     ]
    },
    {
     "name": "stdout",
     "output_type": "stream",
     "text": [
      "i recieved: 42.40913772583008\n",
      "42.40913772583008 -42.390052795410156 False {'max_legnth_reached': False, 'reached': False}\n",
      "i recieved: 42.40913772583008\n",
      "42.40913772583008 -42.40913772583008 False {'max_legnth_reached': False, 'reached': False}\n",
      "i recieved: 42.40913772583008\n",
      "42.40913772583008 -42.40913772583008 False {'max_legnth_reached': False, 'reached': False}\n"
     ]
    },
    {
     "name": "stderr",
     "output_type": "stream",
     "text": [
      "[INFO] [1720794584.192494149] [my_node]: Publishing: \"1.58\"\n",
      "[INFO] [1720794584.291022310] [my_node]: Publishing: \"1.58\"\n",
      "[INFO] [1720794584.389206712] [my_node]: Publishing: \"1.58\"\n"
     ]
    },
    {
     "name": "stdout",
     "output_type": "stream",
     "text": [
      "i recieved: 42.40436553955078\n",
      "42.40436553955078 -42.40913772583008 False {'max_legnth_reached': False, 'reached': False}\n",
      "i recieved: 42.40436553955078\n",
      "42.40436553955078 -42.40436553955078 False {'max_legnth_reached': False, 'reached': False}\n",
      "i recieved: 42.40436553955078\n",
      "42.40436553955078 -42.40436553955078 False {'max_legnth_reached': False, 'reached': False}\n"
     ]
    },
    {
     "name": "stderr",
     "output_type": "stream",
     "text": [
      "[INFO] [1720794584.582129239] [my_node]: Publishing: \"1.58\"\n",
      "[INFO] [1720794584.589067377] [my_node]: Publishing: \"1.58\"\n",
      "[INFO] [1720794584.687996832] [my_node]: Publishing: \"1.58\"\n",
      "[INFO] [1720794584.789968045] [my_node]: Publishing: \"1.58\"\n"
     ]
    },
    {
     "name": "stdout",
     "output_type": "stream",
     "text": [
      "i recieved: 42.40436553955078\n",
      "42.40436553955078 -42.40436553955078 False {'max_legnth_reached': False, 'reached': False}\n",
      "i recieved: 42.40436553955078\n",
      "42.40436553955078 -42.40436553955078 False {'max_legnth_reached': False, 'reached': False}\n",
      "i recieved: 42.45745086669922\n",
      "42.45745086669922 -42.40436553955078 False {'max_legnth_reached': False, 'reached': False}\n"
     ]
    },
    {
     "name": "stderr",
     "output_type": "stream",
     "text": [
      "[INFO] [1720794584.990226044] [my_node]: Publishing: \"1.58\"\n",
      "[INFO] [1720794585.000699848] [my_node]: Publishing: \"1.58\"\n",
      "[INFO] [1720794585.090886309] [my_node]: Publishing: \"1.58\"\n",
      "[INFO] [1720794585.185134405] [my_node]: Publishing: \"1.58\"\n"
     ]
    },
    {
     "name": "stdout",
     "output_type": "stream",
     "text": [
      "i recieved: 42.45745086669922\n",
      "42.45745086669922 -42.45745086669922 False {'max_legnth_reached': False, 'reached': False}\n",
      "i recieved: 42.45745086669922\n",
      "42.45745086669922 -42.45745086669922 False {'max_legnth_reached': False, 'reached': False}\n"
     ]
    },
    {
     "ename": "KeyboardInterrupt",
     "evalue": "",
     "output_type": "error",
     "traceback": [
      "\u001b[0;31m---------------------------------------------------------------------------\u001b[0m",
      "\u001b[0;31mKeyboardInterrupt\u001b[0m                         Traceback (most recent call last)",
      "Cell \u001b[0;32mIn[22], line 120\u001b[0m\n\u001b[1;32m    117\u001b[0m done \u001b[38;5;241m=\u001b[39m \u001b[38;5;28;01mFalse\u001b[39;00m\n\u001b[1;32m    119\u001b[0m \u001b[38;5;28;01mwhile\u001b[39;00m \u001b[38;5;129;01mnot\u001b[39;00m done:\n\u001b[0;32m--> 120\u001b[0m     next_state, reward, done, info \u001b[38;5;241m=\u001b[39m \u001b[43menv\u001b[49m\u001b[38;5;241;43m.\u001b[39;49m\u001b[43mstep\u001b[49m\u001b[43m(\u001b[49m\u001b[38;5;241;43m1.58\u001b[39;49m\u001b[43m)\u001b[49m\n\u001b[1;32m    121\u001b[0m     i \u001b[38;5;241m+\u001b[39m\u001b[38;5;241m=\u001b[39m \u001b[38;5;241m1\u001b[39m\n\u001b[1;32m    122\u001b[0m     \u001b[38;5;28mprint\u001b[39m(next_state, reward, done, info)\n",
      "Cell \u001b[0;32mIn[22], line 29\u001b[0m, in \u001b[0;36mEnv.step\u001b[0;34m(self, action)\u001b[0m\n\u001b[1;32m     27\u001b[0m \u001b[38;5;28;01mdef\u001b[39;00m \u001b[38;5;21mstep\u001b[39m(\u001b[38;5;28mself\u001b[39m, action):\n\u001b[1;32m     28\u001b[0m     \u001b[38;5;28mself\u001b[39m\u001b[38;5;241m.\u001b[39mrobot\u001b[38;5;241m.\u001b[39mdo(action)\n\u001b[0;32m---> 29\u001b[0m     \u001b[38;5;28mself\u001b[39m\u001b[38;5;241m.\u001b[39mnext_state \u001b[38;5;241m=\u001b[39m \u001b[38;5;28;43mself\u001b[39;49m\u001b[38;5;241;43m.\u001b[39;49m\u001b[43mrobot\u001b[49m\u001b[38;5;241;43m.\u001b[39;49m\u001b[43mread_state\u001b[49m\u001b[43m(\u001b[49m\u001b[43m)\u001b[49m\n\u001b[1;32m     30\u001b[0m     \u001b[38;5;28mself\u001b[39m\u001b[38;5;241m.\u001b[39mepisode_step \u001b[38;5;241m+\u001b[39m\u001b[38;5;241m=\u001b[39m \u001b[38;5;241m1\u001b[39m\n\u001b[1;32m     32\u001b[0m     \u001b[38;5;28;01mif\u001b[39;00m np\u001b[38;5;241m.\u001b[39msum(\u001b[38;5;28mself\u001b[39m\u001b[38;5;241m.\u001b[39mnext_state) \u001b[38;5;241m<\u001b[39m\u001b[38;5;241m=\u001b[39m \u001b[38;5;28mself\u001b[39m\u001b[38;5;241m.\u001b[39mfinal_state:\n",
      "Cell \u001b[0;32mIn[22], line 99\u001b[0m, in \u001b[0;36mRobot.read_state\u001b[0;34m(self)\u001b[0m\n\u001b[1;32m     98\u001b[0m \u001b[38;5;28;01mdef\u001b[39;00m \u001b[38;5;21mread_state\u001b[39m(\u001b[38;5;28mself\u001b[39m):\n\u001b[0;32m---> 99\u001b[0m     \u001b[43mrclpy\u001b[49m\u001b[38;5;241;43m.\u001b[39;49m\u001b[43mspin_once\u001b[49m\u001b[43m(\u001b[49m\u001b[38;5;28;43mself\u001b[39;49m\u001b[38;5;241;43m.\u001b[39;49m\u001b[43mnode_ros\u001b[49m\u001b[43m)\u001b[49m\n\u001b[1;32m    100\u001b[0m     \u001b[38;5;28mself\u001b[39m\u001b[38;5;241m.\u001b[39mstate \u001b[38;5;241m=\u001b[39m \u001b[38;5;28mself\u001b[39m\u001b[38;5;241m.\u001b[39mnode_ros\u001b[38;5;241m.\u001b[39mstate\n\u001b[1;32m    101\u001b[0m     \u001b[38;5;28;01mreturn\u001b[39;00m \u001b[38;5;28mself\u001b[39m\u001b[38;5;241m.\u001b[39mstate\n",
      "File \u001b[0;32m/opt/ros/humble/local/lib/python3.10/dist-packages/rclpy/__init__.py:202\u001b[0m, in \u001b[0;36mspin_once\u001b[0;34m(node, executor, timeout_sec)\u001b[0m\n\u001b[1;32m    200\u001b[0m \u001b[38;5;28;01mtry\u001b[39;00m:\n\u001b[1;32m    201\u001b[0m     executor\u001b[38;5;241m.\u001b[39madd_node(node)\n\u001b[0;32m--> 202\u001b[0m     \u001b[43mexecutor\u001b[49m\u001b[38;5;241;43m.\u001b[39;49m\u001b[43mspin_once\u001b[49m\u001b[43m(\u001b[49m\u001b[43mtimeout_sec\u001b[49m\u001b[38;5;241;43m=\u001b[39;49m\u001b[43mtimeout_sec\u001b[49m\u001b[43m)\u001b[49m\n\u001b[1;32m    203\u001b[0m \u001b[38;5;28;01mfinally\u001b[39;00m:\n\u001b[1;32m    204\u001b[0m     executor\u001b[38;5;241m.\u001b[39mremove_node(node)\n",
      "File \u001b[0;32m/opt/ros/humble/local/lib/python3.10/dist-packages/rclpy/executors.py:739\u001b[0m, in \u001b[0;36mSingleThreadedExecutor.spin_once\u001b[0;34m(self, timeout_sec)\u001b[0m\n\u001b[1;32m    738\u001b[0m \u001b[38;5;28;01mdef\u001b[39;00m \u001b[38;5;21mspin_once\u001b[39m(\u001b[38;5;28mself\u001b[39m, timeout_sec: \u001b[38;5;28mfloat\u001b[39m \u001b[38;5;241m=\u001b[39m \u001b[38;5;28;01mNone\u001b[39;00m) \u001b[38;5;241m-\u001b[39m\u001b[38;5;241m>\u001b[39m \u001b[38;5;28;01mNone\u001b[39;00m:\n\u001b[0;32m--> 739\u001b[0m     \u001b[38;5;28;43mself\u001b[39;49m\u001b[38;5;241;43m.\u001b[39;49m\u001b[43m_spin_once_impl\u001b[49m\u001b[43m(\u001b[49m\u001b[43mtimeout_sec\u001b[49m\u001b[43m)\u001b[49m\n",
      "File \u001b[0;32m/opt/ros/humble/local/lib/python3.10/dist-packages/rclpy/executors.py:728\u001b[0m, in \u001b[0;36mSingleThreadedExecutor._spin_once_impl\u001b[0;34m(self, timeout_sec)\u001b[0m\n\u001b[1;32m    723\u001b[0m \u001b[38;5;28;01mdef\u001b[39;00m \u001b[38;5;21m_spin_once_impl\u001b[39m(\n\u001b[1;32m    724\u001b[0m     \u001b[38;5;28mself\u001b[39m,\n\u001b[1;32m    725\u001b[0m     timeout_sec: Optional[Union[\u001b[38;5;28mfloat\u001b[39m, TimeoutObject]] \u001b[38;5;241m=\u001b[39m \u001b[38;5;28;01mNone\u001b[39;00m\n\u001b[1;32m    726\u001b[0m ) \u001b[38;5;241m-\u001b[39m\u001b[38;5;241m>\u001b[39m \u001b[38;5;28;01mNone\u001b[39;00m:\n\u001b[1;32m    727\u001b[0m     \u001b[38;5;28;01mtry\u001b[39;00m:\n\u001b[0;32m--> 728\u001b[0m         handler, entity, node \u001b[38;5;241m=\u001b[39m \u001b[38;5;28;43mself\u001b[39;49m\u001b[38;5;241;43m.\u001b[39;49m\u001b[43mwait_for_ready_callbacks\u001b[49m\u001b[43m(\u001b[49m\u001b[43mtimeout_sec\u001b[49m\u001b[38;5;241;43m=\u001b[39;49m\u001b[43mtimeout_sec\u001b[49m\u001b[43m)\u001b[49m\n\u001b[1;32m    729\u001b[0m     \u001b[38;5;28;01mexcept\u001b[39;00m ShutdownException:\n\u001b[1;32m    730\u001b[0m         \u001b[38;5;28;01mpass\u001b[39;00m\n",
      "File \u001b[0;32m/opt/ros/humble/local/lib/python3.10/dist-packages/rclpy/executors.py:711\u001b[0m, in \u001b[0;36mExecutor.wait_for_ready_callbacks\u001b[0;34m(self, *args, **kwargs)\u001b[0m\n\u001b[1;32m    708\u001b[0m     \u001b[38;5;28mself\u001b[39m\u001b[38;5;241m.\u001b[39m_cb_iter \u001b[38;5;241m=\u001b[39m \u001b[38;5;28mself\u001b[39m\u001b[38;5;241m.\u001b[39m_wait_for_ready_callbacks(\u001b[38;5;241m*\u001b[39margs, \u001b[38;5;241m*\u001b[39m\u001b[38;5;241m*\u001b[39mkwargs)\n\u001b[1;32m    710\u001b[0m \u001b[38;5;28;01mtry\u001b[39;00m:\n\u001b[0;32m--> 711\u001b[0m     \u001b[38;5;28;01mreturn\u001b[39;00m \u001b[38;5;28;43mnext\u001b[39;49m\u001b[43m(\u001b[49m\u001b[38;5;28;43mself\u001b[39;49m\u001b[38;5;241;43m.\u001b[39;49m\u001b[43m_cb_iter\u001b[49m\u001b[43m)\u001b[49m\n\u001b[1;32m    712\u001b[0m \u001b[38;5;28;01mexcept\u001b[39;00m \u001b[38;5;167;01mStopIteration\u001b[39;00m:\n\u001b[1;32m    713\u001b[0m     \u001b[38;5;66;03m# Generator ran out of work\u001b[39;00m\n\u001b[1;32m    714\u001b[0m     \u001b[38;5;28mself\u001b[39m\u001b[38;5;241m.\u001b[39m_cb_iter \u001b[38;5;241m=\u001b[39m \u001b[38;5;28;01mNone\u001b[39;00m\n",
      "File \u001b[0;32m/opt/ros/humble/local/lib/python3.10/dist-packages/rclpy/executors.py:608\u001b[0m, in \u001b[0;36mExecutor._wait_for_ready_callbacks\u001b[0;34m(self, timeout_sec, nodes, condition)\u001b[0m\n\u001b[1;32m    605\u001b[0m     waitable\u001b[38;5;241m.\u001b[39madd_to_wait_set(wait_set)\n\u001b[1;32m    607\u001b[0m \u001b[38;5;66;03m# Wait for something to become ready\u001b[39;00m\n\u001b[0;32m--> 608\u001b[0m \u001b[43mwait_set\u001b[49m\u001b[38;5;241;43m.\u001b[39;49m\u001b[43mwait\u001b[49m\u001b[43m(\u001b[49m\u001b[43mtimeout_nsec\u001b[49m\u001b[43m)\u001b[49m\n\u001b[1;32m    609\u001b[0m \u001b[38;5;28;01mif\u001b[39;00m \u001b[38;5;28mself\u001b[39m\u001b[38;5;241m.\u001b[39m_is_shutdown:\n\u001b[1;32m    610\u001b[0m     \u001b[38;5;28;01mraise\u001b[39;00m ShutdownException()\n",
      "\u001b[0;31mKeyboardInterrupt\u001b[0m: "
     ]
    }
   ],
   "source": [
    "import re\n",
    "import numpy as np\n",
    "import rclpy\n",
    "from rclpy.node import Node\n",
    "\n",
    "from std_msgs.msg import String, Float32\n",
    "\n",
    "\n",
    "class Env:\n",
    "\n",
    "    def __init__(self, robot, max_episode_lenght=1000, final_state=15):\n",
    "        self.next_state = None\n",
    "        self.episode_return = 0\n",
    "        self.episode_step = 0\n",
    "\n",
    "        self.robot = robot\n",
    "        self.done = False\n",
    "        self.episode_step = 0\n",
    "        self.max_episode_lenght = max_episode_lenght\n",
    "        self.final_state = final_state\n",
    "        self.info = {}\n",
    "        self.info[\"max_legnth_reached\"] = False\n",
    "        self.info[\"reached\"] = False\n",
    "\n",
    "        self.state = self.robot.read_state()\n",
    "\n",
    "    def step(self, action):\n",
    "        self.robot.do(action)\n",
    "        self.next_state = self.robot.read_state()\n",
    "        self.episode_step += 1\n",
    "\n",
    "        if np.sum(self.next_state) <= self.final_state:\n",
    "            self.info[\"reached\"] = True\n",
    "\n",
    "        if self.episode_step == self.max_episode_lenght:\n",
    "            self.info[\"max_legnth_reached\"] = True\n",
    "\n",
    "        if self.episode_step == self.max_episode_lenght or self.info[\"reached\"]:\n",
    "            self.done = True\n",
    "        else:\n",
    "            self.reward = -np.sum(self.state)\n",
    "            self.episode_return += self.reward\n",
    "\n",
    "        self.state = self.next_state\n",
    "\n",
    "        return self.next_state, self.reward, self.done, self.info\n",
    "\n",
    "    def reset(self):\n",
    "        self.state = self.robot.read_state()\n",
    "        self.episode_return = 0\n",
    "        self.episode_step = 0\n",
    "        self.done = False\n",
    "        self.info.clear()\n",
    "        self.info[\"max_legnth_reached\"] = False\n",
    "        self.info[\"reached\"] = False\n",
    "\n",
    "\n",
    "class MyNode(Node):\n",
    "\n",
    "    def __init__(self):\n",
    "        super().__init__(\"my_node\")\n",
    "        self.state = None\n",
    "        self.publisher_ = self.create_publisher(Float32, \"do_action\", 10)\n",
    "        self.subscription = self.create_subscription(\n",
    "            Float32, \"chatter\", self.read_state, 10\n",
    "        )\n",
    "        self.subscription  # prevent unused variable warning\n",
    "\n",
    "    def read_state(self, msg):\n",
    "        try:\n",
    "            # TODO translate msg in state\n",
    "            self.state = msg.data\n",
    "            print(f\"i recieved: {self.state}\")\n",
    "        except:\n",
    "            print(\"state not update!\")\n",
    "\n",
    "    def send_message(self, msg):\n",
    "        try:\n",
    "            self.publisher_.publish(msg)\n",
    "            self.get_logger().info('Publishing: \"%s\"' % msg.data)\n",
    "        except Exception as e:\n",
    "            print(e)\n",
    "\n",
    "\n",
    "class Robot:\n",
    "\n",
    "    def __init__(self, name, node_ros):\n",
    "        self.name = name\n",
    "        self.node_ros = node_ros\n",
    "        self.state = self.node_ros.state\n",
    "        print(self)\n",
    "\n",
    "    def do(self, action):\n",
    "        msg = Float32()\n",
    "        msg.data = action\n",
    "        self.node_ros.send_message(msg)\n",
    "\n",
    "    def read_state(self):\n",
    "        rclpy.spin_once(self.node_ros)\n",
    "        self.state = self.node_ros.state\n",
    "        return self.state\n",
    "\n",
    "    def __str__(self):\n",
    "        return f\"robot named:'{self.name}'\"\n",
    "\n",
    "\n",
    "import time\n",
    "\n",
    "# def main(args=None):\n",
    "rclpy.init()\n",
    "\n",
    "my_node = MyNode()\n",
    "\n",
    "robot = Robot(\"bot\", my_node)\n",
    "env = Env(robot)\n",
    "i = 0\n",
    "done = False\n",
    "\n",
    "while not done:\n",
    "    next_state, reward, done, info = env.step(1.58)\n",
    "    i += 1\n",
    "    print(next_state, reward, done, info)\n",
    "\n",
    "print(i, done)\n",
    "\n",
    "\n",
    "# if __name__ == \"__main__\":\n",
    "#     main()\n"
   ]
  },
  {
   "cell_type": "markdown",
   "id": "e8281837",
   "metadata": {},
   "source": [
    "### 6.2 create the agent"
   ]
  },
  {
   "cell_type": "markdown",
   "id": "f59a93a6",
   "metadata": {},
   "source": []
  },
  {
   "cell_type": "markdown",
   "id": "64c474b8",
   "metadata": {},
   "source": [
    "### 6.3 train the agent with DQN algorithm on the simulator"
   ]
  },
  {
   "cell_type": "markdown",
   "id": "f1607baf",
   "metadata": {},
   "source": []
  },
  {
   "cell_type": "markdown",
   "id": "ba7ff78b",
   "metadata": {},
   "source": [
    "### 6.4 test the agent on the simulator"
   ]
  },
  {
   "cell_type": "markdown",
   "id": "993f50c6",
   "metadata": {},
   "source": []
  },
  {
   "cell_type": "markdown",
   "id": "0943e161",
   "metadata": {},
   "source": [
    "## 7. deploy the trained agent in a real robot and test it in a real environment"
   ]
  },
  {
   "cell_type": "markdown",
   "id": "6e6a57a3",
   "metadata": {},
   "source": []
  }
 ],
 "metadata": {
  "kernelspec": {
   "display_name": "Python [conda env:anaconda3-ros2]",
   "language": "python",
   "name": "conda-env-anaconda3-ros2-py"
  },
  "language_info": {
   "codemirror_mode": {
    "name": "ipython",
    "version": 3
   },
   "file_extension": ".py",
   "mimetype": "text/x-python",
   "name": "python",
   "nbconvert_exporter": "python",
   "pygments_lexer": "ipython3",
   "version": "3.10.11"
  },
  "varInspector": {
   "cols": {
    "lenName": 16,
    "lenType": 16,
    "lenVar": 40
   },
   "kernels_config": {
    "python": {
     "delete_cmd_postfix": "",
     "delete_cmd_prefix": "del ",
     "library": "var_list.py",
     "varRefreshCmd": "print(var_dic_list())"
    },
    "r": {
     "delete_cmd_postfix": ") ",
     "delete_cmd_prefix": "rm(",
     "library": "var_list.r",
     "varRefreshCmd": "cat(var_dic_list()) "
    }
   },
   "types_to_exclude": [
    "module",
    "function",
    "builtin_function_or_method",
    "instance",
    "_Feature"
   ],
   "window_display": false
  },
  "vp": {
   "vp_config_version": "1.0.0",
   "vp_menu_width": 273,
   "vp_note_display": false,
   "vp_note_width": 0,
   "vp_position": {
    "width": 278
   },
   "vp_section_display": false,
   "vp_signature": "VisualPython"
  }
 },
 "nbformat": 4,
 "nbformat_minor": 5
}
